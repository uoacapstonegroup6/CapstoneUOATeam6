{
  "cells": [
    {
      "cell_type": "markdown",
      "metadata": {
        "id": "view-in-github",
        "colab_type": "text"
      },
      "source": [
        "<a href=\"https://colab.research.google.com/github/uoacapstonegroup6/CapstoneUOATeam6/blob/main/Capstone_MedVit_SynapseMNIST3d_FinalCopy.ipynb\" target=\"_parent\"><img src=\"https://colab.research.google.com/assets/colab-badge.svg\" alt=\"Open In Colab\"/></a>"
      ]
    },
    {
      "cell_type": "code",
      "execution_count": null,
      "metadata": {
        "id": "_H8U1fAPk9sx",
        "outputId": "2af01e77-4cbc-4135-9eac-fbaff07e2c92"
      },
      "outputs": [
        {
          "name": "stdout",
          "output_type": "stream",
          "text": [
            "Requirement already satisfied: medmnist in /system/conda/miniconda3/envs/cloudspace/lib/python3.10/site-packages (3.0.1)\n",
            "Requirement already satisfied: numpy in /system/conda/miniconda3/envs/cloudspace/lib/python3.10/site-packages (from medmnist) (1.26.4)\n",
            "Requirement already satisfied: pandas in /system/conda/miniconda3/envs/cloudspace/lib/python3.10/site-packages (from medmnist) (2.1.4)\n",
            "Requirement already satisfied: scikit-learn in /system/conda/miniconda3/envs/cloudspace/lib/python3.10/site-packages (from medmnist) (1.3.2)\n",
            "Requirement already satisfied: scikit-image in /system/conda/miniconda3/envs/cloudspace/lib/python3.10/site-packages (from medmnist) (0.24.0)\n",
            "Requirement already satisfied: tqdm in /system/conda/miniconda3/envs/cloudspace/lib/python3.10/site-packages (from medmnist) (4.66.5)\n",
            "Requirement already satisfied: Pillow in /system/conda/miniconda3/envs/cloudspace/lib/python3.10/site-packages (from medmnist) (10.4.0)\n",
            "Requirement already satisfied: fire in /system/conda/miniconda3/envs/cloudspace/lib/python3.10/site-packages (from medmnist) (0.6.0)\n",
            "Requirement already satisfied: torch in /system/conda/miniconda3/envs/cloudspace/lib/python3.10/site-packages (from medmnist) (2.2.1+cu121)\n",
            "Requirement already satisfied: torchvision in /system/conda/miniconda3/envs/cloudspace/lib/python3.10/site-packages (from medmnist) (0.17.1+cu121)\n",
            "Requirement already satisfied: six in /system/conda/miniconda3/envs/cloudspace/lib/python3.10/site-packages (from fire->medmnist) (1.16.0)\n",
            "Requirement already satisfied: termcolor in /system/conda/miniconda3/envs/cloudspace/lib/python3.10/site-packages (from fire->medmnist) (2.4.0)\n",
            "Requirement already satisfied: python-dateutil>=2.8.2 in /system/conda/miniconda3/envs/cloudspace/lib/python3.10/site-packages (from pandas->medmnist) (2.9.0.post0)\n",
            "Requirement already satisfied: pytz>=2020.1 in /system/conda/miniconda3/envs/cloudspace/lib/python3.10/site-packages (from pandas->medmnist) (2024.1)\n",
            "Requirement already satisfied: tzdata>=2022.1 in /system/conda/miniconda3/envs/cloudspace/lib/python3.10/site-packages (from pandas->medmnist) (2024.1)\n",
            "Requirement already satisfied: scipy>=1.9 in /system/conda/miniconda3/envs/cloudspace/lib/python3.10/site-packages (from scikit-image->medmnist) (1.11.4)\n",
            "Requirement already satisfied: networkx>=2.8 in /system/conda/miniconda3/envs/cloudspace/lib/python3.10/site-packages (from scikit-image->medmnist) (3.3)\n",
            "Requirement already satisfied: imageio>=2.33 in /system/conda/miniconda3/envs/cloudspace/lib/python3.10/site-packages (from scikit-image->medmnist) (2.35.1)\n",
            "Requirement already satisfied: tifffile>=2022.8.12 in /system/conda/miniconda3/envs/cloudspace/lib/python3.10/site-packages (from scikit-image->medmnist) (2024.8.30)\n",
            "Requirement already satisfied: packaging>=21 in /system/conda/miniconda3/envs/cloudspace/lib/python3.10/site-packages (from scikit-image->medmnist) (24.1)\n",
            "Requirement already satisfied: lazy-loader>=0.4 in /system/conda/miniconda3/envs/cloudspace/lib/python3.10/site-packages (from scikit-image->medmnist) (0.4)\n",
            "Requirement already satisfied: joblib>=1.1.1 in /system/conda/miniconda3/envs/cloudspace/lib/python3.10/site-packages (from scikit-learn->medmnist) (1.4.2)\n",
            "Requirement already satisfied: threadpoolctl>=2.0.0 in /system/conda/miniconda3/envs/cloudspace/lib/python3.10/site-packages (from scikit-learn->medmnist) (3.5.0)\n",
            "Requirement already satisfied: filelock in /system/conda/miniconda3/envs/cloudspace/lib/python3.10/site-packages (from torch->medmnist) (3.15.4)\n",
            "Requirement already satisfied: typing-extensions>=4.8.0 in /system/conda/miniconda3/envs/cloudspace/lib/python3.10/site-packages (from torch->medmnist) (4.12.2)\n",
            "Requirement already satisfied: sympy in /system/conda/miniconda3/envs/cloudspace/lib/python3.10/site-packages (from torch->medmnist) (1.13.2)\n",
            "Requirement already satisfied: jinja2 in /system/conda/miniconda3/envs/cloudspace/lib/python3.10/site-packages (from torch->medmnist) (3.1.4)\n",
            "Requirement already satisfied: fsspec in /system/conda/miniconda3/envs/cloudspace/lib/python3.10/site-packages (from torch->medmnist) (2024.9.0)\n",
            "Requirement already satisfied: nvidia-cuda-nvrtc-cu12==12.1.105 in /system/conda/miniconda3/envs/cloudspace/lib/python3.10/site-packages (from torch->medmnist) (12.1.105)\n",
            "Requirement already satisfied: nvidia-cuda-runtime-cu12==12.1.105 in /system/conda/miniconda3/envs/cloudspace/lib/python3.10/site-packages (from torch->medmnist) (12.1.105)\n",
            "Requirement already satisfied: nvidia-cuda-cupti-cu12==12.1.105 in /system/conda/miniconda3/envs/cloudspace/lib/python3.10/site-packages (from torch->medmnist) (12.1.105)\n",
            "Requirement already satisfied: nvidia-cudnn-cu12==8.9.2.26 in /system/conda/miniconda3/envs/cloudspace/lib/python3.10/site-packages (from torch->medmnist) (8.9.2.26)\n",
            "Requirement already satisfied: nvidia-cublas-cu12==12.1.3.1 in /system/conda/miniconda3/envs/cloudspace/lib/python3.10/site-packages (from torch->medmnist) (12.1.3.1)\n",
            "Requirement already satisfied: nvidia-cufft-cu12==11.0.2.54 in /system/conda/miniconda3/envs/cloudspace/lib/python3.10/site-packages (from torch->medmnist) (11.0.2.54)\n",
            "Requirement already satisfied: nvidia-curand-cu12==10.3.2.106 in /system/conda/miniconda3/envs/cloudspace/lib/python3.10/site-packages (from torch->medmnist) (10.3.2.106)\n",
            "Requirement already satisfied: nvidia-cusolver-cu12==11.4.5.107 in /system/conda/miniconda3/envs/cloudspace/lib/python3.10/site-packages (from torch->medmnist) (11.4.5.107)\n",
            "Requirement already satisfied: nvidia-cusparse-cu12==12.1.0.106 in /system/conda/miniconda3/envs/cloudspace/lib/python3.10/site-packages (from torch->medmnist) (12.1.0.106)\n",
            "Requirement already satisfied: nvidia-nccl-cu12==2.19.3 in /system/conda/miniconda3/envs/cloudspace/lib/python3.10/site-packages (from torch->medmnist) (2.19.3)\n",
            "Requirement already satisfied: nvidia-nvtx-cu12==12.1.105 in /system/conda/miniconda3/envs/cloudspace/lib/python3.10/site-packages (from torch->medmnist) (12.1.105)\n",
            "Requirement already satisfied: triton==2.2.0 in /system/conda/miniconda3/envs/cloudspace/lib/python3.10/site-packages (from torch->medmnist) (2.2.0)\n",
            "Requirement already satisfied: nvidia-nvjitlink-cu12 in /system/conda/miniconda3/envs/cloudspace/lib/python3.10/site-packages (from nvidia-cusolver-cu12==11.4.5.107->torch->medmnist) (12.6.68)\n",
            "Requirement already satisfied: MarkupSafe>=2.0 in /system/conda/miniconda3/envs/cloudspace/lib/python3.10/site-packages (from jinja2->torch->medmnist) (2.1.5)\n",
            "Requirement already satisfied: mpmath<1.4,>=1.1.0 in /system/conda/miniconda3/envs/cloudspace/lib/python3.10/site-packages (from sympy->torch->medmnist) (1.3.0)\n"
          ]
        }
      ],
      "source": [
        "# Install the MedMNIST library, a large-scale benchmark dataset for medical image classification tasks\n",
        "\n",
        "!pip install medmnist"
      ]
    },
    {
      "cell_type": "code",
      "execution_count": null,
      "metadata": {
        "id": "y9uHe4stROGP",
        "outputId": "7c274ee4-80a1-4278-ea94-c0d1c113fea9"
      },
      "outputs": [
        {
          "data": {
            "text/plain": [
              "'/teamspace/studios/this_studio'"
            ]
          },
          "execution_count": 3,
          "metadata": {},
          "output_type": "execute_result"
        }
      ],
      "source": [
        "%pwd"
      ]
    },
    {
      "cell_type": "markdown",
      "metadata": {
        "id": "Ugv-2jKMROGP"
      },
      "source": [
        "# Import Library"
      ]
    },
    {
      "cell_type": "code",
      "execution_count": null,
      "metadata": {
        "id": "jbbvyQ70ROGQ",
        "outputId": "af55d0cb-ecbf-4b17-d213-220898a7962a"
      },
      "outputs": [
        {
          "name": "stdout",
          "output_type": "stream",
          "text": [
            "Requirement already satisfied: torchsummary in /system/conda/miniconda3/envs/cloudspace/lib/python3.10/site-packages (1.5.1)\n"
          ]
        }
      ],
      "source": [
        "!pip install torchsummary"
      ]
    },
    {
      "cell_type": "code",
      "execution_count": null,
      "metadata": {
        "id": "gNuU3tj7ROGQ"
      },
      "outputs": [],
      "source": [
        "import os\n",
        "os.environ['PYTORCH_CUDA_ALLOC_CONF'] = 'expandable_segments:True'\n",
        "import sys\n",
        "import numpy as np\n",
        "import matplotlib.pyplot as plt\n",
        "%matplotlib inline\n",
        "\n",
        "import torch\n",
        "import torch.nn as nn\n",
        "import torch.optim as optim\n",
        "\n",
        "import torchvision.utils\n",
        "from torchvision import models\n",
        "import torchvision.datasets as dsets\n",
        "import torchvision.transforms as transforms\n",
        "from torchsummary import summary\n",
        "\n",
        "from tqdm import tqdm\n",
        "import numpy as np\n",
        "\n",
        "import torch.utils.data as data\n",
        "import torchvision.transforms as transforms\n",
        "from sklearn.metrics import precision_score, recall_score, accuracy_score, f1_score\n",
        "\n",
        "import medmnist\n",
        "from medmnist import INFO, Evaluator\n",
        "\n",
        "from PIL import Image"
      ]
    },
    {
      "cell_type": "markdown",
      "metadata": {
        "id": "dGeJbS3zROGQ"
      },
      "source": [
        "# Download Data"
      ]
    },
    {
      "cell_type": "code",
      "execution_count": null,
      "metadata": {
        "id": "G4S62dEcROGQ"
      },
      "outputs": [],
      "source": [
        "# data_flag = 'vesselmnist3d'\n",
        "data_flag='synapsemnist3d'\n",
        "# data_flag = 'fracturemnist3d'"
      ]
    },
    {
      "cell_type": "code",
      "execution_count": null,
      "metadata": {
        "id": "orGI_UCsROGQ",
        "outputId": "ef2d9af0-91e7-4dee-8c27-95941e32790b"
      },
      "outputs": [
        {
          "name": "stdout",
          "output_type": "stream",
          "text": [
            "Using downloaded and verified file: /teamspace/studios/this_studio/.medmnist/synapsemnist3d_64.npz\n",
            "Using downloaded and verified file: /teamspace/studios/this_studio/.medmnist/synapsemnist3d_64.npz\n",
            "Using downloaded and verified file: /teamspace/studios/this_studio/.medmnist/synapsemnist3d_64.npz\n"
          ]
        }
      ],
      "source": [
        "\n",
        "info = INFO[data_flag]\n",
        "task = info['task']\n",
        "n_channels = info['n_channels']\n",
        "n_classes = len(info['label'])\n",
        "\n",
        "DataClass = getattr(medmnist, info['python_class'])\n",
        "train_dataset = DataClass(split='train', download=True,size=64)\n",
        "val_dataset = DataClass(split='val', download=True,size=64)\n",
        "test_dataset = DataClass(split='test', download=True,size=64)\n",
        "\n"
      ]
    },
    {
      "cell_type": "code",
      "execution_count": null,
      "metadata": {
        "id": "gz7lAOvNROGQ"
      },
      "outputs": [],
      "source": [
        "# Create directories for saving 2D frames\n",
        "train_dir = f'./{data_flag}/train'\n",
        "valid_dir = f'./{data_flag}/valid'\n",
        "test_dir = f'./{data_flag}/test'"
      ]
    },
    {
      "cell_type": "code",
      "execution_count": null,
      "metadata": {
        "id": "mTTwEeMGROGR"
      },
      "outputs": [],
      "source": [
        "# Save data to\n",
        "for dir in [train_dir, valid_dir, test_dir]:\n",
        "    if not os.path.exists(dir):\n",
        "        os.makedirs(dir)\n",
        "\n",
        "# Extract 2D slices from 3D data and save to local drive\n",
        "def extract_and_save_2d_slices(dataset, dir):\n",
        "    for idx, img in enumerate(dataset.imgs):\n",
        "        label = dataset.labels[idx]\n",
        "        for i in range(img.shape[0]):  # Extract each of the 64 frames\n",
        "            slice_2d = img[i, :, :]\n",
        "            slice_2d_img = Image.fromarray(slice_2d)\n",
        "            filename = f\"{idx}_{i}.png\"\n",
        "            filepath = os.path.join(dir, str(label), filename)\n",
        "            if not os.path.exists(os.path.dirname(filepath)):\n",
        "                os.makedirs(os.path.dirname(filepath))\n",
        "            slice_2d_img.save(filepath)\n",
        "\n",
        "extract_and_save_2d_slices(train_dataset, train_dir)\n",
        "extract_and_save_2d_slices(val_dataset, valid_dir)\n",
        "extract_and_save_2d_slices(test_dataset, test_dir)"
      ]
    },
    {
      "cell_type": "markdown",
      "metadata": {
        "id": "0O2xm1_KROGR"
      },
      "source": [
        "# Data Preprocessing"
      ]
    },
    {
      "cell_type": "code",
      "execution_count": null,
      "metadata": {
        "id": "jZ0pY79AROGR",
        "outputId": "e084a69b-e3c5-4d00-d0bd-9cd73466341c"
      },
      "outputs": [
        {
          "name": "stdout",
          "output_type": "stream",
          "text": [
            "(1, 64, 64, 64) (1,)\n"
          ]
        }
      ],
      "source": [
        "x, y = test_dataset[0]\n",
        "\n",
        "print(x.shape, y.shape)"
      ]
    },
    {
      "cell_type": "code",
      "execution_count": null,
      "metadata": {
        "id": "J94eWLnSROGR",
        "outputId": "2e14659a-a2a8-4d41-9325-d752b3ffec0d"
      },
      "outputs": [
        {
          "name": "stdout",
          "output_type": "stream",
          "text": [
            "[[0.67843137 0.5372549  0.58431373 ... 0.89803922 0.61960784 0.68627451]\n",
            " [0.50196078 0.39215686 0.43921569 ... 0.87843137 0.72941176 0.75686275]\n",
            " [0.34901961 0.23921569 0.49803922 ... 0.75294118 0.83529412 0.65098039]\n",
            " ...\n",
            " [0.47843137 0.30196078 0.50196078 ... 0.28627451 0.09803922 0.12941176]\n",
            " [0.23921569 0.32156863 0.24313725 ... 0.50588235 0.26666667 0.05882353]\n",
            " [0.4        0.21568627 0.17647059 ... 0.74117647 0.40392157 0.10196078]]\n"
          ]
        }
      ],
      "source": [
        "print(x[0][0])"
      ]
    },
    {
      "cell_type": "code",
      "execution_count": null,
      "metadata": {
        "id": "Nb_J-BJuROGR",
        "outputId": "b339f278-931f-4384-8756-324c942bf052"
      },
      "outputs": [
        {
          "data": {
            "text/plain": [
              "['[0]', '[1]']"
            ]
          },
          "execution_count": 13,
          "metadata": {},
          "output_type": "execute_result"
        }
      ],
      "source": [
        "os.listdir(test_dir)"
      ]
    },
    {
      "cell_type": "code",
      "execution_count": null,
      "metadata": {
        "id": "-EA-tSdhROGR"
      },
      "outputs": [],
      "source": [
        "label_dir = os.path.join(test_dir, '[0]')"
      ]
    },
    {
      "cell_type": "code",
      "execution_count": null,
      "metadata": {
        "id": "x9AEA_ejROGR",
        "outputId": "ae852254-7ac2-42ee-dcf8-7a0f6ed26198"
      },
      "outputs": [
        {
          "name": "stdout",
          "output_type": "stream",
          "text": [
            "./synapsemnist3d/test/[0]\n"
          ]
        }
      ],
      "source": [
        "print(label_dir)"
      ]
    },
    {
      "cell_type": "code",
      "execution_count": null,
      "metadata": {
        "id": "NEoCldgeROGR",
        "outputId": "543e65ed-a1e3-414f-cf7b-4597cec929cc",
        "collapsed": true
      },
      "outputs": [
        {
          "data": {
            "text/plain": [
              "['257_0.png',\n",
              " '257_1.png',\n",
              " '257_10.png',\n",
              " '257_11.png',\n",
              " '257_12.png',\n",
              " '257_13.png',\n",
              " '257_14.png',\n",
              " '257_15.png',\n",
              " '257_16.png',\n",
              " '257_17.png',\n",
              " '257_18.png',\n",
              " '257_19.png',\n",
              " '257_2.png',\n",
              " '257_20.png',\n",
              " '257_21.png',\n",
              " '257_22.png',\n",
              " '257_23.png',\n",
              " '257_24.png',\n",
              " '257_25.png',\n",
              " '257_26.png',\n",
              " '257_27.png',\n",
              " '257_28.png',\n",
              " '257_29.png',\n",
              " '257_3.png',\n",
              " '257_30.png',\n",
              " '257_31.png',\n",
              " '257_32.png',\n",
              " '257_33.png',\n",
              " '257_34.png',\n",
              " '257_35.png',\n",
              " '257_36.png',\n",
              " '257_37.png',\n",
              " '257_38.png',\n",
              " '257_39.png',\n",
              " '257_4.png',\n",
              " '257_40.png',\n",
              " '257_41.png',\n",
              " '257_42.png',\n",
              " '257_43.png',\n",
              " '257_44.png',\n",
              " '257_45.png',\n",
              " '257_46.png',\n",
              " '257_47.png',\n",
              " '257_48.png',\n",
              " '257_49.png',\n",
              " '257_5.png',\n",
              " '257_50.png',\n",
              " '257_51.png',\n",
              " '257_52.png',\n",
              " '257_53.png',\n",
              " '257_54.png',\n",
              " '257_55.png',\n",
              " '257_56.png',\n",
              " '257_57.png',\n",
              " '257_58.png',\n",
              " '257_59.png',\n",
              " '257_6.png',\n",
              " '257_60.png',\n",
              " '257_61.png',\n",
              " '257_62.png',\n",
              " '257_63.png',\n",
              " '257_7.png',\n",
              " '257_8.png',\n",
              " '257_9.png',\n",
              " '258_0.png',\n",
              " '258_1.png',\n",
              " '258_10.png',\n",
              " '258_11.png',\n",
              " '258_12.png',\n",
              " '258_13.png',\n",
              " '258_14.png',\n",
              " '258_15.png',\n",
              " '258_16.png',\n",
              " '258_17.png',\n",
              " '258_18.png',\n",
              " '258_19.png',\n",
              " '258_2.png',\n",
              " '258_20.png',\n",
              " '258_21.png',\n",
              " '258_22.png',\n",
              " '258_23.png',\n",
              " '258_24.png',\n",
              " '258_25.png',\n",
              " '258_26.png',\n",
              " '258_27.png',\n",
              " '258_28.png',\n",
              " '258_29.png',\n",
              " '258_3.png',\n",
              " '258_30.png',\n",
              " '258_31.png',\n",
              " '258_32.png',\n",
              " '258_33.png',\n",
              " '258_34.png',\n",
              " '258_35.png',\n",
              " '258_36.png',\n",
              " '258_37.png',\n",
              " '258_38.png',\n",
              " '258_39.png',\n",
              " '258_4.png',\n",
              " '258_40.png',\n",
              " '258_41.png',\n",
              " '258_42.png',\n",
              " '258_43.png',\n",
              " '258_44.png',\n",
              " '258_45.png',\n",
              " '258_46.png',\n",
              " '258_47.png',\n",
              " '258_48.png',\n",
              " '258_49.png',\n",
              " '258_5.png',\n",
              " '258_50.png',\n",
              " '258_51.png',\n",
              " '258_52.png',\n",
              " '258_53.png',\n",
              " '258_54.png',\n",
              " '258_55.png',\n",
              " '258_56.png',\n",
              " '258_57.png',\n",
              " '258_58.png',\n",
              " '258_59.png',\n",
              " '258_6.png',\n",
              " '258_60.png',\n",
              " '258_61.png',\n",
              " '258_62.png',\n",
              " '258_63.png',\n",
              " '258_7.png',\n",
              " '258_8.png',\n",
              " '258_9.png',\n",
              " '259_0.png',\n",
              " '259_1.png',\n",
              " '259_10.png',\n",
              " '259_11.png',\n",
              " '259_12.png',\n",
              " '259_13.png',\n",
              " '259_14.png',\n",
              " '259_15.png',\n",
              " '259_16.png',\n",
              " '259_17.png',\n",
              " '259_18.png',\n",
              " '259_19.png',\n",
              " '259_2.png',\n",
              " '259_20.png',\n",
              " '259_21.png',\n",
              " '259_22.png',\n",
              " '259_23.png',\n",
              " '259_24.png',\n",
              " '259_25.png',\n",
              " '259_26.png',\n",
              " '259_27.png',\n",
              " '259_28.png',\n",
              " '259_29.png',\n",
              " '259_3.png',\n",
              " '259_30.png',\n",
              " '259_31.png',\n",
              " '259_32.png',\n",
              " '259_33.png',\n",
              " '259_34.png',\n",
              " '259_35.png',\n",
              " '259_36.png',\n",
              " '259_37.png',\n",
              " '259_38.png',\n",
              " '259_39.png',\n",
              " '259_4.png',\n",
              " '259_40.png',\n",
              " '259_41.png',\n",
              " '259_42.png',\n",
              " '259_43.png',\n",
              " '259_44.png',\n",
              " '259_45.png',\n",
              " '259_46.png',\n",
              " '259_47.png',\n",
              " '259_48.png',\n",
              " '259_49.png',\n",
              " '259_5.png',\n",
              " '259_50.png',\n",
              " '259_51.png',\n",
              " '259_52.png',\n",
              " '259_53.png',\n",
              " '259_54.png',\n",
              " '259_55.png',\n",
              " '259_56.png',\n",
              " '259_57.png',\n",
              " '259_58.png',\n",
              " '259_59.png',\n",
              " '259_6.png',\n",
              " '259_60.png',\n",
              " '259_61.png',\n",
              " '259_62.png',\n",
              " '259_63.png',\n",
              " '259_7.png',\n",
              " '259_8.png',\n",
              " '259_9.png',\n",
              " '260_0.png',\n",
              " '260_1.png',\n",
              " '260_10.png',\n",
              " '260_11.png',\n",
              " '260_12.png',\n",
              " '260_13.png',\n",
              " '260_14.png',\n",
              " '260_15.png',\n",
              " '260_16.png',\n",
              " '260_17.png',\n",
              " '260_18.png',\n",
              " '260_19.png',\n",
              " '260_2.png',\n",
              " '260_20.png',\n",
              " '260_21.png',\n",
              " '260_22.png',\n",
              " '260_23.png',\n",
              " '260_24.png',\n",
              " '260_25.png',\n",
              " '260_26.png',\n",
              " '260_27.png',\n",
              " '260_28.png',\n",
              " '260_29.png',\n",
              " '260_3.png',\n",
              " '260_30.png',\n",
              " '260_31.png',\n",
              " '260_32.png',\n",
              " '260_33.png',\n",
              " '260_34.png',\n",
              " '260_35.png',\n",
              " '260_36.png',\n",
              " '260_37.png',\n",
              " '260_38.png',\n",
              " '260_39.png',\n",
              " '260_4.png',\n",
              " '260_40.png',\n",
              " '260_41.png',\n",
              " '260_42.png',\n",
              " '260_43.png',\n",
              " '260_44.png',\n",
              " '260_45.png',\n",
              " '260_46.png',\n",
              " '260_47.png',\n",
              " '260_48.png',\n",
              " '260_49.png',\n",
              " '260_5.png',\n",
              " '260_50.png',\n",
              " '260_51.png',\n",
              " '260_52.png',\n",
              " '260_53.png',\n",
              " '260_54.png',\n",
              " '260_55.png',\n",
              " '260_56.png',\n",
              " '260_57.png',\n",
              " '260_58.png',\n",
              " '260_59.png',\n",
              " '260_6.png',\n",
              " '260_60.png',\n",
              " '260_61.png',\n",
              " '260_62.png',\n",
              " '260_63.png',\n",
              " '260_7.png',\n",
              " '260_8.png',\n",
              " '260_9.png',\n",
              " '261_0.png',\n",
              " '261_1.png',\n",
              " '261_10.png',\n",
              " '261_11.png',\n",
              " '261_12.png',\n",
              " '261_13.png',\n",
              " '261_14.png',\n",
              " '261_15.png',\n",
              " '261_16.png',\n",
              " '261_17.png',\n",
              " '261_18.png',\n",
              " '261_19.png',\n",
              " '261_2.png',\n",
              " '261_20.png',\n",
              " '261_21.png',\n",
              " '261_22.png',\n",
              " '261_23.png',\n",
              " '261_24.png',\n",
              " '261_25.png',\n",
              " '261_26.png',\n",
              " '261_27.png',\n",
              " '261_28.png',\n",
              " '261_29.png',\n",
              " '261_3.png',\n",
              " '261_30.png',\n",
              " '261_31.png',\n",
              " '261_32.png',\n",
              " '261_33.png',\n",
              " '261_34.png',\n",
              " '261_35.png',\n",
              " '261_36.png',\n",
              " '261_37.png',\n",
              " '261_38.png',\n",
              " '261_39.png',\n",
              " '261_4.png',\n",
              " '261_40.png',\n",
              " '261_41.png',\n",
              " '261_42.png',\n",
              " '261_43.png',\n",
              " '261_44.png',\n",
              " '261_45.png',\n",
              " '261_46.png',\n",
              " '261_47.png',\n",
              " '261_48.png',\n",
              " '261_49.png',\n",
              " '261_5.png',\n",
              " '261_50.png',\n",
              " '261_51.png',\n",
              " '261_52.png',\n",
              " '261_53.png',\n",
              " '261_54.png',\n",
              " '261_55.png',\n",
              " '261_56.png',\n",
              " '261_57.png',\n",
              " '261_58.png',\n",
              " '261_59.png',\n",
              " '261_6.png',\n",
              " '261_60.png',\n",
              " '261_61.png',\n",
              " '261_62.png',\n",
              " '261_63.png',\n",
              " '261_7.png',\n",
              " '261_8.png',\n",
              " '261_9.png',\n",
              " '262_0.png',\n",
              " '262_1.png',\n",
              " '262_10.png',\n",
              " '262_11.png',\n",
              " '262_12.png',\n",
              " '262_13.png',\n",
              " '262_14.png',\n",
              " '262_15.png',\n",
              " '262_16.png',\n",
              " '262_17.png',\n",
              " '262_18.png',\n",
              " '262_19.png',\n",
              " '262_2.png',\n",
              " '262_20.png',\n",
              " '262_21.png',\n",
              " '262_22.png',\n",
              " '262_23.png',\n",
              " '262_24.png',\n",
              " '262_25.png',\n",
              " '262_26.png',\n",
              " '262_27.png',\n",
              " '262_28.png',\n",
              " '262_29.png',\n",
              " '262_3.png',\n",
              " '262_30.png',\n",
              " '262_31.png',\n",
              " '262_32.png',\n",
              " '262_33.png',\n",
              " '262_34.png',\n",
              " '262_35.png',\n",
              " '262_36.png',\n",
              " '262_37.png',\n",
              " '262_38.png',\n",
              " '262_39.png',\n",
              " '262_4.png',\n",
              " '262_40.png',\n",
              " '262_41.png',\n",
              " '262_42.png',\n",
              " '262_43.png',\n",
              " '262_44.png',\n",
              " '262_45.png',\n",
              " '262_46.png',\n",
              " '262_47.png',\n",
              " '262_48.png',\n",
              " '262_49.png',\n",
              " '262_5.png',\n",
              " '262_50.png',\n",
              " '262_51.png',\n",
              " '262_52.png',\n",
              " '262_53.png',\n",
              " '262_54.png',\n",
              " '262_55.png',\n",
              " '262_56.png',\n",
              " '262_57.png',\n",
              " '262_58.png',\n",
              " '262_59.png',\n",
              " '262_6.png',\n",
              " '262_60.png',\n",
              " '262_61.png',\n",
              " '262_62.png',\n",
              " '262_63.png',\n",
              " '262_7.png',\n",
              " '262_8.png',\n",
              " '262_9.png',\n",
              " '263_0.png',\n",
              " '263_1.png',\n",
              " '263_10.png',\n",
              " '263_11.png',\n",
              " '263_12.png',\n",
              " '263_13.png',\n",
              " '263_14.png',\n",
              " '263_15.png',\n",
              " '263_16.png',\n",
              " '263_17.png',\n",
              " '263_18.png',\n",
              " '263_19.png',\n",
              " '263_2.png',\n",
              " '263_20.png',\n",
              " '263_21.png',\n",
              " '263_22.png',\n",
              " '263_23.png',\n",
              " '263_24.png',\n",
              " '263_25.png',\n",
              " '263_26.png',\n",
              " '263_27.png',\n",
              " '263_28.png',\n",
              " '263_29.png',\n",
              " '263_3.png',\n",
              " '263_30.png',\n",
              " '263_31.png',\n",
              " '263_32.png',\n",
              " '263_33.png',\n",
              " '263_34.png',\n",
              " '263_35.png',\n",
              " '263_36.png',\n",
              " '263_37.png',\n",
              " '263_38.png',\n",
              " '263_39.png',\n",
              " '263_4.png',\n",
              " '263_40.png',\n",
              " '263_41.png',\n",
              " '263_42.png',\n",
              " '263_43.png',\n",
              " '263_44.png',\n",
              " '263_45.png',\n",
              " '263_46.png',\n",
              " '263_47.png',\n",
              " '263_48.png',\n",
              " '263_49.png',\n",
              " '263_5.png',\n",
              " '263_50.png',\n",
              " '263_51.png',\n",
              " '263_52.png',\n",
              " '263_53.png',\n",
              " '263_54.png',\n",
              " '263_55.png',\n",
              " '263_56.png',\n",
              " '263_57.png',\n",
              " '263_58.png',\n",
              " '263_59.png',\n",
              " '263_6.png',\n",
              " '263_60.png',\n",
              " '263_61.png',\n",
              " '263_62.png',\n",
              " '263_63.png',\n",
              " '263_7.png',\n",
              " '263_8.png',\n",
              " '263_9.png',\n",
              " '264_0.png',\n",
              " '264_1.png',\n",
              " '264_10.png',\n",
              " '264_11.png',\n",
              " '264_12.png',\n",
              " '264_13.png',\n",
              " '264_14.png',\n",
              " '264_15.png',\n",
              " '264_16.png',\n",
              " '264_17.png',\n",
              " '264_18.png',\n",
              " '264_19.png',\n",
              " '264_2.png',\n",
              " '264_20.png',\n",
              " '264_21.png',\n",
              " '264_22.png',\n",
              " '264_23.png',\n",
              " '264_24.png',\n",
              " '264_25.png',\n",
              " '264_26.png',\n",
              " '264_27.png',\n",
              " '264_28.png',\n",
              " '264_29.png',\n",
              " '264_3.png',\n",
              " '264_30.png',\n",
              " '264_31.png',\n",
              " '264_32.png',\n",
              " '264_33.png',\n",
              " '264_34.png',\n",
              " '264_35.png',\n",
              " '264_36.png',\n",
              " '264_37.png',\n",
              " '264_38.png',\n",
              " '264_39.png',\n",
              " '264_4.png',\n",
              " '264_40.png',\n",
              " '264_41.png',\n",
              " '264_42.png',\n",
              " '264_43.png',\n",
              " '264_44.png',\n",
              " '264_45.png',\n",
              " '264_46.png',\n",
              " '264_47.png',\n",
              " '264_48.png',\n",
              " '264_49.png',\n",
              " '264_5.png',\n",
              " '264_50.png',\n",
              " '264_51.png',\n",
              " '264_52.png',\n",
              " '264_53.png',\n",
              " '264_54.png',\n",
              " '264_55.png',\n",
              " '264_56.png',\n",
              " '264_57.png',\n",
              " '264_58.png',\n",
              " '264_59.png',\n",
              " '264_6.png',\n",
              " '264_60.png',\n",
              " '264_61.png',\n",
              " '264_62.png',\n",
              " '264_63.png',\n",
              " '264_7.png',\n",
              " '264_8.png',\n",
              " '264_9.png',\n",
              " '265_0.png',\n",
              " '265_1.png',\n",
              " '265_10.png',\n",
              " '265_11.png',\n",
              " '265_12.png',\n",
              " '265_13.png',\n",
              " '265_14.png',\n",
              " '265_15.png',\n",
              " '265_16.png',\n",
              " '265_17.png',\n",
              " '265_18.png',\n",
              " '265_19.png',\n",
              " '265_2.png',\n",
              " '265_20.png',\n",
              " '265_21.png',\n",
              " '265_22.png',\n",
              " '265_23.png',\n",
              " '265_24.png',\n",
              " '265_25.png',\n",
              " '265_26.png',\n",
              " '265_27.png',\n",
              " '265_28.png',\n",
              " '265_29.png',\n",
              " '265_3.png',\n",
              " '265_30.png',\n",
              " '265_31.png',\n",
              " '265_32.png',\n",
              " '265_33.png',\n",
              " '265_34.png',\n",
              " '265_35.png',\n",
              " '265_36.png',\n",
              " '265_37.png',\n",
              " '265_38.png',\n",
              " '265_39.png',\n",
              " '265_4.png',\n",
              " '265_40.png',\n",
              " '265_41.png',\n",
              " '265_42.png',\n",
              " '265_43.png',\n",
              " '265_44.png',\n",
              " '265_45.png',\n",
              " '265_46.png',\n",
              " '265_47.png',\n",
              " '265_48.png',\n",
              " '265_49.png',\n",
              " '265_5.png',\n",
              " '265_50.png',\n",
              " '265_51.png',\n",
              " '265_52.png',\n",
              " '265_53.png',\n",
              " '265_54.png',\n",
              " '265_55.png',\n",
              " '265_56.png',\n",
              " '265_57.png',\n",
              " '265_58.png',\n",
              " '265_59.png',\n",
              " '265_6.png',\n",
              " '265_60.png',\n",
              " '265_61.png',\n",
              " '265_62.png',\n",
              " '265_63.png',\n",
              " '265_7.png',\n",
              " '265_8.png',\n",
              " '265_9.png',\n",
              " '266_0.png',\n",
              " '266_1.png',\n",
              " '266_10.png',\n",
              " '266_11.png',\n",
              " '266_12.png',\n",
              " '266_13.png',\n",
              " '266_14.png',\n",
              " '266_15.png',\n",
              " '266_16.png',\n",
              " '266_17.png',\n",
              " '266_18.png',\n",
              " '266_19.png',\n",
              " '266_2.png',\n",
              " '266_20.png',\n",
              " '266_21.png',\n",
              " '266_22.png',\n",
              " '266_23.png',\n",
              " '266_24.png',\n",
              " '266_25.png',\n",
              " '266_26.png',\n",
              " '266_27.png',\n",
              " '266_28.png',\n",
              " '266_29.png',\n",
              " '266_3.png',\n",
              " '266_30.png',\n",
              " '266_31.png',\n",
              " '266_32.png',\n",
              " '266_33.png',\n",
              " '266_34.png',\n",
              " '266_35.png',\n",
              " '266_36.png',\n",
              " '266_37.png',\n",
              " '266_38.png',\n",
              " '266_39.png',\n",
              " '266_4.png',\n",
              " '266_40.png',\n",
              " '266_41.png',\n",
              " '266_42.png',\n",
              " '266_43.png',\n",
              " '266_44.png',\n",
              " '266_45.png',\n",
              " '266_46.png',\n",
              " '266_47.png',\n",
              " '266_48.png',\n",
              " '266_49.png',\n",
              " '266_5.png',\n",
              " '266_50.png',\n",
              " '266_51.png',\n",
              " '266_52.png',\n",
              " '266_53.png',\n",
              " '266_54.png',\n",
              " '266_55.png',\n",
              " '266_56.png',\n",
              " '266_57.png',\n",
              " '266_58.png',\n",
              " '266_59.png',\n",
              " '266_6.png',\n",
              " '266_60.png',\n",
              " '266_61.png',\n",
              " '266_62.png',\n",
              " '266_63.png',\n",
              " '266_7.png',\n",
              " '266_8.png',\n",
              " '266_9.png',\n",
              " '267_0.png',\n",
              " '267_1.png',\n",
              " '267_10.png',\n",
              " '267_11.png',\n",
              " '267_12.png',\n",
              " '267_13.png',\n",
              " '267_14.png',\n",
              " '267_15.png',\n",
              " '267_16.png',\n",
              " '267_17.png',\n",
              " '267_18.png',\n",
              " '267_19.png',\n",
              " '267_2.png',\n",
              " '267_20.png',\n",
              " '267_21.png',\n",
              " '267_22.png',\n",
              " '267_23.png',\n",
              " '267_24.png',\n",
              " '267_25.png',\n",
              " '267_26.png',\n",
              " '267_27.png',\n",
              " '267_28.png',\n",
              " '267_29.png',\n",
              " '267_3.png',\n",
              " '267_30.png',\n",
              " '267_31.png',\n",
              " '267_32.png',\n",
              " '267_33.png',\n",
              " '267_34.png',\n",
              " '267_35.png',\n",
              " '267_36.png',\n",
              " '267_37.png',\n",
              " '267_38.png',\n",
              " '267_39.png',\n",
              " '267_4.png',\n",
              " '267_40.png',\n",
              " '267_41.png',\n",
              " '267_42.png',\n",
              " '267_43.png',\n",
              " '267_44.png',\n",
              " '267_45.png',\n",
              " '267_46.png',\n",
              " '267_47.png',\n",
              " '267_48.png',\n",
              " '267_49.png',\n",
              " '267_5.png',\n",
              " '267_50.png',\n",
              " '267_51.png',\n",
              " '267_52.png',\n",
              " '267_53.png',\n",
              " '267_54.png',\n",
              " '267_55.png',\n",
              " '267_56.png',\n",
              " '267_57.png',\n",
              " '267_58.png',\n",
              " '267_59.png',\n",
              " '267_6.png',\n",
              " '267_60.png',\n",
              " '267_61.png',\n",
              " '267_62.png',\n",
              " '267_63.png',\n",
              " '267_7.png',\n",
              " '267_8.png',\n",
              " '267_9.png',\n",
              " '268_0.png',\n",
              " '268_1.png',\n",
              " '268_10.png',\n",
              " '268_11.png',\n",
              " '268_12.png',\n",
              " '268_13.png',\n",
              " '268_14.png',\n",
              " '268_15.png',\n",
              " '268_16.png',\n",
              " '268_17.png',\n",
              " '268_18.png',\n",
              " '268_19.png',\n",
              " '268_2.png',\n",
              " '268_20.png',\n",
              " '268_21.png',\n",
              " '268_22.png',\n",
              " '268_23.png',\n",
              " '268_24.png',\n",
              " '268_25.png',\n",
              " '268_26.png',\n",
              " '268_27.png',\n",
              " '268_28.png',\n",
              " '268_29.png',\n",
              " '268_3.png',\n",
              " '268_30.png',\n",
              " '268_31.png',\n",
              " '268_32.png',\n",
              " '268_33.png',\n",
              " '268_34.png',\n",
              " '268_35.png',\n",
              " '268_36.png',\n",
              " '268_37.png',\n",
              " '268_38.png',\n",
              " '268_39.png',\n",
              " '268_4.png',\n",
              " '268_40.png',\n",
              " '268_41.png',\n",
              " '268_42.png',\n",
              " '268_43.png',\n",
              " '268_44.png',\n",
              " '268_45.png',\n",
              " '268_46.png',\n",
              " '268_47.png',\n",
              " '268_48.png',\n",
              " '268_49.png',\n",
              " '268_5.png',\n",
              " '268_50.png',\n",
              " '268_51.png',\n",
              " '268_52.png',\n",
              " '268_53.png',\n",
              " '268_54.png',\n",
              " '268_55.png',\n",
              " '268_56.png',\n",
              " '268_57.png',\n",
              " '268_58.png',\n",
              " '268_59.png',\n",
              " '268_6.png',\n",
              " '268_60.png',\n",
              " '268_61.png',\n",
              " '268_62.png',\n",
              " '268_63.png',\n",
              " '268_7.png',\n",
              " '268_8.png',\n",
              " '268_9.png',\n",
              " '269_0.png',\n",
              " '269_1.png',\n",
              " '269_10.png',\n",
              " '269_11.png',\n",
              " '269_12.png',\n",
              " '269_13.png',\n",
              " '269_14.png',\n",
              " '269_15.png',\n",
              " '269_16.png',\n",
              " '269_17.png',\n",
              " '269_18.png',\n",
              " '269_19.png',\n",
              " '269_2.png',\n",
              " '269_20.png',\n",
              " '269_21.png',\n",
              " '269_22.png',\n",
              " '269_23.png',\n",
              " '269_24.png',\n",
              " '269_25.png',\n",
              " '269_26.png',\n",
              " '269_27.png',\n",
              " '269_28.png',\n",
              " '269_29.png',\n",
              " '269_3.png',\n",
              " '269_30.png',\n",
              " '269_31.png',\n",
              " '269_32.png',\n",
              " '269_33.png',\n",
              " '269_34.png',\n",
              " '269_35.png',\n",
              " '269_36.png',\n",
              " '269_37.png',\n",
              " '269_38.png',\n",
              " '269_39.png',\n",
              " '269_4.png',\n",
              " '269_40.png',\n",
              " '269_41.png',\n",
              " '269_42.png',\n",
              " '269_43.png',\n",
              " '269_44.png',\n",
              " '269_45.png',\n",
              " '269_46.png',\n",
              " '269_47.png',\n",
              " '269_48.png',\n",
              " '269_49.png',\n",
              " '269_5.png',\n",
              " '269_50.png',\n",
              " '269_51.png',\n",
              " '269_52.png',\n",
              " '269_53.png',\n",
              " '269_54.png',\n",
              " '269_55.png',\n",
              " '269_56.png',\n",
              " '269_57.png',\n",
              " '269_58.png',\n",
              " '269_59.png',\n",
              " '269_6.png',\n",
              " '269_60.png',\n",
              " '269_61.png',\n",
              " '269_62.png',\n",
              " '269_63.png',\n",
              " '269_7.png',\n",
              " '269_8.png',\n",
              " '269_9.png',\n",
              " '270_0.png',\n",
              " '270_1.png',\n",
              " '270_10.png',\n",
              " '270_11.png',\n",
              " '270_12.png',\n",
              " '270_13.png',\n",
              " '270_14.png',\n",
              " '270_15.png',\n",
              " '270_16.png',\n",
              " '270_17.png',\n",
              " '270_18.png',\n",
              " '270_19.png',\n",
              " '270_2.png',\n",
              " '270_20.png',\n",
              " '270_21.png',\n",
              " '270_22.png',\n",
              " '270_23.png',\n",
              " '270_24.png',\n",
              " '270_25.png',\n",
              " '270_26.png',\n",
              " '270_27.png',\n",
              " '270_28.png',\n",
              " '270_29.png',\n",
              " '270_3.png',\n",
              " '270_30.png',\n",
              " '270_31.png',\n",
              " '270_32.png',\n",
              " '270_33.png',\n",
              " '270_34.png',\n",
              " '270_35.png',\n",
              " '270_36.png',\n",
              " '270_37.png',\n",
              " '270_38.png',\n",
              " '270_39.png',\n",
              " '270_4.png',\n",
              " '270_40.png',\n",
              " '270_41.png',\n",
              " '270_42.png',\n",
              " '270_43.png',\n",
              " '270_44.png',\n",
              " '270_45.png',\n",
              " '270_46.png',\n",
              " '270_47.png',\n",
              " '270_48.png',\n",
              " '270_49.png',\n",
              " '270_5.png',\n",
              " '270_50.png',\n",
              " '270_51.png',\n",
              " '270_52.png',\n",
              " '270_53.png',\n",
              " '270_54.png',\n",
              " '270_55.png',\n",
              " '270_56.png',\n",
              " '270_57.png',\n",
              " '270_58.png',\n",
              " '270_59.png',\n",
              " '270_6.png',\n",
              " '270_60.png',\n",
              " '270_61.png',\n",
              " '270_62.png',\n",
              " '270_63.png',\n",
              " '270_7.png',\n",
              " '270_8.png',\n",
              " '270_9.png',\n",
              " '271_0.png',\n",
              " '271_1.png',\n",
              " '271_10.png',\n",
              " '271_11.png',\n",
              " '271_12.png',\n",
              " '271_13.png',\n",
              " '271_14.png',\n",
              " '271_15.png',\n",
              " '271_16.png',\n",
              " '271_17.png',\n",
              " '271_18.png',\n",
              " '271_19.png',\n",
              " '271_2.png',\n",
              " '271_20.png',\n",
              " '271_21.png',\n",
              " '271_22.png',\n",
              " '271_23.png',\n",
              " '271_24.png',\n",
              " '271_25.png',\n",
              " '271_26.png',\n",
              " '271_27.png',\n",
              " '271_28.png',\n",
              " '271_29.png',\n",
              " '271_3.png',\n",
              " '271_30.png',\n",
              " '271_31.png',\n",
              " '271_32.png',\n",
              " '271_33.png',\n",
              " '271_34.png',\n",
              " '271_35.png',\n",
              " '271_36.png',\n",
              " '271_37.png',\n",
              " '271_38.png',\n",
              " '271_39.png',\n",
              " '271_4.png',\n",
              " '271_40.png',\n",
              " '271_41.png',\n",
              " '271_42.png',\n",
              " '271_43.png',\n",
              " '271_44.png',\n",
              " '271_45.png',\n",
              " '271_46.png',\n",
              " '271_47.png',\n",
              " '271_48.png',\n",
              " '271_49.png',\n",
              " '271_5.png',\n",
              " '271_50.png',\n",
              " '271_51.png',\n",
              " '271_52.png',\n",
              " '271_53.png',\n",
              " '271_54.png',\n",
              " '271_55.png',\n",
              " '271_56.png',\n",
              " '271_57.png',\n",
              " '271_58.png',\n",
              " '271_59.png',\n",
              " '271_6.png',\n",
              " '271_60.png',\n",
              " '271_61.png',\n",
              " '271_62.png',\n",
              " '271_63.png',\n",
              " '271_7.png',\n",
              " '271_8.png',\n",
              " '271_9.png',\n",
              " '272_0.png',\n",
              " '272_1.png',\n",
              " '272_10.png',\n",
              " '272_11.png',\n",
              " '272_12.png',\n",
              " '272_13.png',\n",
              " '272_14.png',\n",
              " '272_15.png',\n",
              " '272_16.png',\n",
              " '272_17.png',\n",
              " '272_18.png',\n",
              " '272_19.png',\n",
              " '272_2.png',\n",
              " '272_20.png',\n",
              " '272_21.png',\n",
              " '272_22.png',\n",
              " '272_23.png',\n",
              " '272_24.png',\n",
              " '272_25.png',\n",
              " '272_26.png',\n",
              " '272_27.png',\n",
              " '272_28.png',\n",
              " '272_29.png',\n",
              " '272_3.png',\n",
              " '272_30.png',\n",
              " '272_31.png',\n",
              " '272_32.png',\n",
              " '272_33.png',\n",
              " '272_34.png',\n",
              " '272_35.png',\n",
              " '272_36.png',\n",
              " '272_37.png',\n",
              " '272_38.png',\n",
              " '272_39.png',\n",
              " '272_4.png',\n",
              " '272_40.png',\n",
              " '272_41.png',\n",
              " '272_42.png',\n",
              " '272_43.png',\n",
              " '272_44.png',\n",
              " ...]"
            ]
          },
          "execution_count": 10,
          "metadata": {},
          "output_type": "execute_result"
        }
      ],
      "source": [
        "os.listdir(label_dir)"
      ]
    },
    {
      "cell_type": "code",
      "execution_count": null,
      "metadata": {
        "id": "XXFbroYFROGS"
      },
      "outputs": [],
      "source": [
        "# Create a custom dataset class to handle 2D slices\n",
        "class SliceDataset(data.Dataset):\n",
        "    def __init__(self, dir, transform=None):\n",
        "        self.dir = dir\n",
        "        self.transform = transform\n",
        "        self.labels = []\n",
        "        self.filenames = []\n",
        "        self.image_ids = []\n",
        "\n",
        "        for label in os.listdir(dir):\n",
        "            label_value = int(label.strip('[]'))\n",
        "            label_dir = os.path.join(dir, label)\n",
        "            for filename in sorted(os.listdir(label_dir)):  # Sort to ensure slices are in order\n",
        "                image_id = filename.split('_')[0]  # Extract 3D image ID (e.g., '12' from '12_0.png')\n",
        "                self.labels.append(label_value)\n",
        "                self.filenames.append(os.path.join(label_dir, filename))\n",
        "                self.image_ids.append(image_id)  # Store the image ID for tracking\n",
        "\n",
        "    def __len__(self):\n",
        "        return len(self.filenames)\n",
        "\n",
        "    def __getitem__(self, idx):\n",
        "        filename = self.filenames[idx]\n",
        "        img = Image.open(filename)\n",
        "        if self.transform:\n",
        "            img = self.transform(img)\n",
        "        return img, self.labels[idx], self.image_ids[idx]  # Return image ID for tracking\n",
        "\n",
        "# # Create data loaders for the 2D slices\n",
        "# data_transform = transforms.Compose([\n",
        "#     transforms.ToTensor(),\n",
        "#     transforms.Normalize(mean=[.5], std=[.5])\n",
        "# ])\n",
        "# preprocessing\n",
        "train_transform = transforms.Compose([\n",
        "    transforms.Resize(224),\n",
        "    transforms.Lambda(lambda image: image.convert('RGB')),\n",
        "    #torchvision.transforms.AugMix(),\n",
        "    transforms.ToTensor(),\n",
        "    #transforms.Normalize(mean=[.5], std=[.5])\n",
        "])\n",
        "test_transform = transforms.Compose([\n",
        "    transforms.Resize(224),\n",
        "    transforms.Lambda(lambda image: image.convert('RGB')),\n",
        "    transforms.ToTensor(),\n",
        "    #transforms.Normalize(mean=[.5], std=[.5])\n",
        "])\n",
        "\n",
        "train_slice_dataset = SliceDataset(train_dir, transform=train_transform)\n",
        "valid_slice_dataset = SliceDataset(valid_dir, transform=test_transform)\n",
        "test_slice_dataset = SliceDataset(test_dir, transform=test_transform)"
      ]
    },
    {
      "cell_type": "code",
      "execution_count": null,
      "metadata": {
        "id": "A68BPJXkk9s4"
      },
      "outputs": [],
      "source": [
        "# Custom DataLoader to ensure batches of 64 slices from the same 3D image\n",
        "def collate_fn(batch):\n",
        "    batch_images = []\n",
        "    batch_labels = []\n",
        "    current_image_id = batch[0][2]  # Get the 3D image ID of the first element in the batch\n",
        "\n",
        "    # Print the 3D image ID being processed\n",
        "    print(f\"Processing 3D image ID: {current_image_id}\")\n",
        "\n",
        "    for img, label, image_id in batch:\n",
        "        if image_id != current_image_id:\n",
        "            raise ValueError(f\"Mixed slices in batch. Expected image ID {current_image_id}, but got {image_id}\")\n",
        "        batch_images.append(img)\n",
        "        batch_labels.append(label)\n",
        "\n",
        "    return torch.stack(batch_images), batch_labels  # Stack the images as tensors"
      ]
    },
    {
      "cell_type": "code",
      "execution_count": null,
      "metadata": {
        "id": "eozJ2wuIROGS"
      },
      "outputs": [],
      "source": [
        "lr = 0.001\n",
        "BATCH_SIZE = 64\n",
        "NUM_EPOCHS = 10\n",
        "train_loader = data.DataLoader(dataset=train_slice_dataset, batch_size=BATCH_SIZE, shuffle=True)\n",
        "valid_loader = data.DataLoader(dataset=valid_slice_dataset, batch_size=BATCH_SIZE, shuffle=True)\n",
        "# test_loader = data.DataLoader(dataset=test_slice_dataset, batch_size=BATCH_SIZE, shuffle=False)\n",
        "test_loader = data.DataLoader(dataset=test_slice_dataset, batch_size=BATCH_SIZE, shuffle=False, collate_fn=collate_fn)"
      ]
    },
    {
      "cell_type": "markdown",
      "source": [
        "# MedVit Training"
      ],
      "metadata": {
        "id": "HoF4ySBCLyTs"
      }
    },
    {
      "cell_type": "code",
      "source": [
        "# Install MedVit\n",
        "!git clone https://github.com/Omid-Nejati/MedViT.git"
      ],
      "metadata": {
        "id": "WIA2plQuL4dK"
      },
      "execution_count": null,
      "outputs": []
    },
    {
      "cell_type": "code",
      "execution_count": null,
      "metadata": {
        "outputId": "7d54f4da-0f9d-4992-f87c-1fb35ababd42",
        "id": "0FuxRQdSMOep"
      },
      "outputs": [
        {
          "name": "stdout",
          "output_type": "stream",
          "text": [
            "/home/exouser/Documents/RRR_MedVit/MedViT\n"
          ]
        },
        {
          "name": "stderr",
          "output_type": "stream",
          "text": [
            "/home/exouser/.local/lib/python3.10/site-packages/IPython/core/magics/osm.py:417: UserWarning: using dhist requires you to install the `pickleshare` library.\n",
            "  self.shell.db['dhist'] = compress_dhist(dhist)[-100:]\n"
          ]
        }
      ],
      "source": [
        "# Change directory to MedVit\n",
        "%cd ./MedViT"
      ]
    },
    {
      "cell_type": "code",
      "execution_count": null,
      "metadata": {
        "outputId": "acebebd4-9243-4382-99dc-df2204b93ed3",
        "id": "_3uVFDABMh3b"
      },
      "outputs": [
        {
          "name": "stdout",
          "output_type": "stream",
          "text": [
            "\u001b[0m\u001b[01;32mColab_MedViT.ipynb\u001b[0m*  \u001b[01;32mLICENSE\u001b[0m*      \u001b[01;34mfracturemnist3d\u001b[0m/   \u001b[01;32mutils.py\u001b[0m*\n",
            "\u001b[01;34mCustomDataset\u001b[0m/       \u001b[01;32mMedViT.py\u001b[0m*    \u001b[01;34mimages\u001b[0m/\n",
            "\u001b[01;32mCustomDataset.md\u001b[0m*    \u001b[01;32mREADME.md\u001b[0m*    \u001b[01;32mrequirements.txt\u001b[0m*\n",
            "\u001b[01;32mInstructions.ipynb\u001b[0m*  \u001b[01;34m__pycache__\u001b[0m/  \u001b[01;34msynapsemnist3d\u001b[0m/\n"
          ]
        }
      ],
      "source": [
        "# Check Folder Content\n",
        "%ls"
      ]
    },
    {
      "cell_type": "code",
      "execution_count": null,
      "metadata": {
        "outputId": "61f9affd-4437-4087-9add-cda4ac4e8231",
        "collapsed": true,
        "id": "GIUv4u5ZMYrH"
      },
      "outputs": [
        {
          "name": "stdout",
          "output_type": "stream",
          "text": [
            "Requirement already satisfied: einops in /system/conda/miniconda3/envs/cloudspace/lib/python3.10/site-packages (from -r requirements.txt (line 1)) (0.8.0)\n",
            "Requirement already satisfied: timm in /system/conda/miniconda3/envs/cloudspace/lib/python3.10/site-packages (from -r requirements.txt (line 2)) (1.0.9)\n",
            "Requirement already satisfied: medmnist in /system/conda/miniconda3/envs/cloudspace/lib/python3.10/site-packages (from -r requirements.txt (line 3)) (3.0.1)\n",
            "Requirement already satisfied: numpy in /system/conda/miniconda3/envs/cloudspace/lib/python3.10/site-packages (from -r requirements.txt (line 4)) (1.26.4)\n",
            "Requirement already satisfied: pandas in /system/conda/miniconda3/envs/cloudspace/lib/python3.10/site-packages (from -r requirements.txt (line 5)) (2.1.4)\n",
            "Requirement already satisfied: scikit-learn in /system/conda/miniconda3/envs/cloudspace/lib/python3.10/site-packages (from -r requirements.txt (line 6)) (1.3.2)\n",
            "Requirement already satisfied: scikit-image in /system/conda/miniconda3/envs/cloudspace/lib/python3.10/site-packages (from -r requirements.txt (line 7)) (0.24.0)\n",
            "Requirement already satisfied: fvcore in /system/conda/miniconda3/envs/cloudspace/lib/python3.10/site-packages (from -r requirements.txt (line 8)) (0.1.5.post20221221)\n",
            "Requirement already satisfied: tqdm in /system/conda/miniconda3/envs/cloudspace/lib/python3.10/site-packages (from -r requirements.txt (line 9)) (4.66.5)\n",
            "Requirement already satisfied: Pillow in /system/conda/miniconda3/envs/cloudspace/lib/python3.10/site-packages (from -r requirements.txt (line 10)) (10.4.0)\n",
            "Requirement already satisfied: fire in /system/conda/miniconda3/envs/cloudspace/lib/python3.10/site-packages (from -r requirements.txt (line 11)) (0.6.0)\n",
            "Requirement already satisfied: torchattacks in /system/conda/miniconda3/envs/cloudspace/lib/python3.10/site-packages (from -r requirements.txt (line 12)) (3.5.1)\n",
            "Requirement already satisfied: torch in /system/conda/miniconda3/envs/cloudspace/lib/python3.10/site-packages (from -r requirements.txt (line 13)) (2.2.1+cu121)\n",
            "Requirement already satisfied: torchvision in /system/conda/miniconda3/envs/cloudspace/lib/python3.10/site-packages (from -r requirements.txt (line 14)) (0.17.1+cu121)\n",
            "Requirement already satisfied: pyyaml in /system/conda/miniconda3/envs/cloudspace/lib/python3.10/site-packages (from timm->-r requirements.txt (line 2)) (6.0.2)\n",
            "Requirement already satisfied: huggingface_hub in /system/conda/miniconda3/envs/cloudspace/lib/python3.10/site-packages (from timm->-r requirements.txt (line 2)) (0.25.0)\n",
            "Requirement already satisfied: safetensors in /system/conda/miniconda3/envs/cloudspace/lib/python3.10/site-packages (from timm->-r requirements.txt (line 2)) (0.4.5)\n",
            "Requirement already satisfied: python-dateutil>=2.8.2 in /system/conda/miniconda3/envs/cloudspace/lib/python3.10/site-packages (from pandas->-r requirements.txt (line 5)) (2.9.0.post0)\n",
            "Requirement already satisfied: pytz>=2020.1 in /system/conda/miniconda3/envs/cloudspace/lib/python3.10/site-packages (from pandas->-r requirements.txt (line 5)) (2024.1)\n",
            "Requirement already satisfied: tzdata>=2022.1 in /system/conda/miniconda3/envs/cloudspace/lib/python3.10/site-packages (from pandas->-r requirements.txt (line 5)) (2024.1)\n",
            "Requirement already satisfied: scipy>=1.5.0 in /system/conda/miniconda3/envs/cloudspace/lib/python3.10/site-packages (from scikit-learn->-r requirements.txt (line 6)) (1.11.4)\n",
            "Requirement already satisfied: joblib>=1.1.1 in /system/conda/miniconda3/envs/cloudspace/lib/python3.10/site-packages (from scikit-learn->-r requirements.txt (line 6)) (1.4.2)\n",
            "Requirement already satisfied: threadpoolctl>=2.0.0 in /system/conda/miniconda3/envs/cloudspace/lib/python3.10/site-packages (from scikit-learn->-r requirements.txt (line 6)) (3.5.0)\n",
            "Requirement already satisfied: networkx>=2.8 in /system/conda/miniconda3/envs/cloudspace/lib/python3.10/site-packages (from scikit-image->-r requirements.txt (line 7)) (3.3)\n",
            "Requirement already satisfied: imageio>=2.33 in /system/conda/miniconda3/envs/cloudspace/lib/python3.10/site-packages (from scikit-image->-r requirements.txt (line 7)) (2.35.1)\n",
            "Requirement already satisfied: tifffile>=2022.8.12 in /system/conda/miniconda3/envs/cloudspace/lib/python3.10/site-packages (from scikit-image->-r requirements.txt (line 7)) (2024.8.30)\n",
            "Requirement already satisfied: packaging>=21 in /system/conda/miniconda3/envs/cloudspace/lib/python3.10/site-packages (from scikit-image->-r requirements.txt (line 7)) (24.1)\n",
            "Requirement already satisfied: lazy-loader>=0.4 in /system/conda/miniconda3/envs/cloudspace/lib/python3.10/site-packages (from scikit-image->-r requirements.txt (line 7)) (0.4)\n",
            "Requirement already satisfied: yacs>=0.1.6 in /system/conda/miniconda3/envs/cloudspace/lib/python3.10/site-packages (from fvcore->-r requirements.txt (line 8)) (0.1.8)\n",
            "Requirement already satisfied: termcolor>=1.1 in /system/conda/miniconda3/envs/cloudspace/lib/python3.10/site-packages (from fvcore->-r requirements.txt (line 8)) (2.4.0)\n",
            "Requirement already satisfied: tabulate in /system/conda/miniconda3/envs/cloudspace/lib/python3.10/site-packages (from fvcore->-r requirements.txt (line 8)) (0.9.0)\n",
            "Requirement already satisfied: iopath>=0.1.7 in /system/conda/miniconda3/envs/cloudspace/lib/python3.10/site-packages (from fvcore->-r requirements.txt (line 8)) (0.1.10)\n",
            "Requirement already satisfied: six in /system/conda/miniconda3/envs/cloudspace/lib/python3.10/site-packages (from fire->-r requirements.txt (line 11)) (1.16.0)\n",
            "Requirement already satisfied: requests~=2.25.1 in /system/conda/miniconda3/envs/cloudspace/lib/python3.10/site-packages (from torchattacks->-r requirements.txt (line 12)) (2.25.1)\n",
            "Requirement already satisfied: filelock in /system/conda/miniconda3/envs/cloudspace/lib/python3.10/site-packages (from torch->-r requirements.txt (line 13)) (3.15.4)\n",
            "Requirement already satisfied: typing-extensions>=4.8.0 in /system/conda/miniconda3/envs/cloudspace/lib/python3.10/site-packages (from torch->-r requirements.txt (line 13)) (4.12.2)\n",
            "Requirement already satisfied: sympy in /system/conda/miniconda3/envs/cloudspace/lib/python3.10/site-packages (from torch->-r requirements.txt (line 13)) (1.13.2)\n",
            "Requirement already satisfied: jinja2 in /system/conda/miniconda3/envs/cloudspace/lib/python3.10/site-packages (from torch->-r requirements.txt (line 13)) (3.1.4)\n",
            "Requirement already satisfied: fsspec in /system/conda/miniconda3/envs/cloudspace/lib/python3.10/site-packages (from torch->-r requirements.txt (line 13)) (2024.9.0)\n",
            "Requirement already satisfied: nvidia-cuda-nvrtc-cu12==12.1.105 in /system/conda/miniconda3/envs/cloudspace/lib/python3.10/site-packages (from torch->-r requirements.txt (line 13)) (12.1.105)\n",
            "Requirement already satisfied: nvidia-cuda-runtime-cu12==12.1.105 in /system/conda/miniconda3/envs/cloudspace/lib/python3.10/site-packages (from torch->-r requirements.txt (line 13)) (12.1.105)\n",
            "Requirement already satisfied: nvidia-cuda-cupti-cu12==12.1.105 in /system/conda/miniconda3/envs/cloudspace/lib/python3.10/site-packages (from torch->-r requirements.txt (line 13)) (12.1.105)\n",
            "Requirement already satisfied: nvidia-cudnn-cu12==8.9.2.26 in /system/conda/miniconda3/envs/cloudspace/lib/python3.10/site-packages (from torch->-r requirements.txt (line 13)) (8.9.2.26)\n",
            "Requirement already satisfied: nvidia-cublas-cu12==12.1.3.1 in /system/conda/miniconda3/envs/cloudspace/lib/python3.10/site-packages (from torch->-r requirements.txt (line 13)) (12.1.3.1)\n",
            "Requirement already satisfied: nvidia-cufft-cu12==11.0.2.54 in /system/conda/miniconda3/envs/cloudspace/lib/python3.10/site-packages (from torch->-r requirements.txt (line 13)) (11.0.2.54)\n",
            "Requirement already satisfied: nvidia-curand-cu12==10.3.2.106 in /system/conda/miniconda3/envs/cloudspace/lib/python3.10/site-packages (from torch->-r requirements.txt (line 13)) (10.3.2.106)\n",
            "Requirement already satisfied: nvidia-cusolver-cu12==11.4.5.107 in /system/conda/miniconda3/envs/cloudspace/lib/python3.10/site-packages (from torch->-r requirements.txt (line 13)) (11.4.5.107)\n",
            "Requirement already satisfied: nvidia-cusparse-cu12==12.1.0.106 in /system/conda/miniconda3/envs/cloudspace/lib/python3.10/site-packages (from torch->-r requirements.txt (line 13)) (12.1.0.106)\n",
            "Requirement already satisfied: nvidia-nccl-cu12==2.19.3 in /system/conda/miniconda3/envs/cloudspace/lib/python3.10/site-packages (from torch->-r requirements.txt (line 13)) (2.19.3)\n",
            "Requirement already satisfied: nvidia-nvtx-cu12==12.1.105 in /system/conda/miniconda3/envs/cloudspace/lib/python3.10/site-packages (from torch->-r requirements.txt (line 13)) (12.1.105)\n",
            "Requirement already satisfied: triton==2.2.0 in /system/conda/miniconda3/envs/cloudspace/lib/python3.10/site-packages (from torch->-r requirements.txt (line 13)) (2.2.0)\n",
            "Requirement already satisfied: nvidia-nvjitlink-cu12 in /system/conda/miniconda3/envs/cloudspace/lib/python3.10/site-packages (from nvidia-cusolver-cu12==11.4.5.107->torch->-r requirements.txt (line 13)) (12.6.68)\n",
            "Requirement already satisfied: portalocker in /system/conda/miniconda3/envs/cloudspace/lib/python3.10/site-packages (from iopath>=0.1.7->fvcore->-r requirements.txt (line 8)) (2.10.1)\n",
            "Requirement already satisfied: chardet<5,>=3.0.2 in /system/conda/miniconda3/envs/cloudspace/lib/python3.10/site-packages (from requests~=2.25.1->torchattacks->-r requirements.txt (line 12)) (4.0.0)\n",
            "Requirement already satisfied: idna<3,>=2.5 in /system/conda/miniconda3/envs/cloudspace/lib/python3.10/site-packages (from requests~=2.25.1->torchattacks->-r requirements.txt (line 12)) (2.10)\n",
            "Requirement already satisfied: urllib3<1.27,>=1.21.1 in /system/conda/miniconda3/envs/cloudspace/lib/python3.10/site-packages (from requests~=2.25.1->torchattacks->-r requirements.txt (line 12)) (1.26.20)\n",
            "Requirement already satisfied: certifi>=2017.4.17 in /system/conda/miniconda3/envs/cloudspace/lib/python3.10/site-packages (from requests~=2.25.1->torchattacks->-r requirements.txt (line 12)) (2024.8.30)\n",
            "Requirement already satisfied: MarkupSafe>=2.0 in /system/conda/miniconda3/envs/cloudspace/lib/python3.10/site-packages (from jinja2->torch->-r requirements.txt (line 13)) (2.1.5)\n",
            "Requirement already satisfied: mpmath<1.4,>=1.1.0 in /system/conda/miniconda3/envs/cloudspace/lib/python3.10/site-packages (from sympy->torch->-r requirements.txt (line 13)) (1.3.0)\n",
            "Note: you may need to restart the kernel to use updated packages.\n"
          ]
        }
      ],
      "source": [
        "# Install Dependencies\n",
        "pip install -r requirements.txt"
      ]
    },
    {
      "cell_type": "code",
      "execution_count": null,
      "metadata": {
        "id": "cpp1Hxmvk9s5",
        "outputId": "1512cd86-b2ce-415d-8b31-26cd06abb9c8"
      },
      "outputs": [
        {
          "name": "stdout",
          "output_type": "stream",
          "text": [
            "cuda\n"
          ]
        }
      ],
      "source": [
        "# Detect GPU availability\n",
        "device = torch.device(\"cuda\" if torch.cuda.is_available() else \"cpu\")\n",
        "print(device)"
      ]
    },
    {
      "cell_type": "code",
      "execution_count": null,
      "metadata": {
        "id": "ATMbGT0wROGU",
        "outputId": "4e3ce196-becc-436d-a040-5ec5f503ea87"
      },
      "outputs": [
        {
          "name": "stdout",
          "output_type": "stream",
          "text": [
            "initialize_weights...\n"
          ]
        }
      ],
      "source": [
        "# Load MedVit Base model\n",
        "from MedViT import MedViT_small as tiny, MedViT_base as base\n",
        "model = base()"
      ]
    },
    {
      "cell_type": "code",
      "execution_count": null,
      "metadata": {
        "id": "ie5GPMI2ROGU",
        "outputId": "92f92afd-5db0-4252-b5f8-134d08d9c2f8"
      },
      "outputs": [
        {
          "name": "stderr",
          "output_type": "stream",
          "text": [
            "/home/exouser/.local/lib/python3.10/site-packages/torch/cuda/__init__.py:128: UserWarning: CUDA initialization: CUDA driver initialization failed, you might not have a CUDA gpu. (Triggered internally at ../c10/cuda/CUDAFunctions.cpp:108.)\n",
            "  return torch._C._cuda_getDeviceCount() > 0\n"
          ]
        }
      ],
      "source": [
        "# Move the model to the GPU\n",
        "model = model.to(device)"
      ]
    },
    {
      "cell_type": "code",
      "execution_count": null,
      "metadata": {
        "id": "FI7_JeB0ROGU"
      },
      "outputs": [],
      "source": [
        "model.proj_head[0] = torch.nn.Linear(in_features=1230, out_features=2, bias=True)"
      ]
    },
    {
      "cell_type": "code",
      "execution_count": null,
      "metadata": {
        "id": "jYvSik3jROGU",
        "outputId": "e1d79a0f-24a2-47dc-be62-eff4e80fd377"
      },
      "outputs": [
        {
          "name": "stdout",
          "output_type": "stream",
          "text": [
            "binary-class\n"
          ]
        }
      ],
      "source": [
        "print(task)"
      ]
    },
    {
      "cell_type": "code",
      "execution_count": null,
      "metadata": {
        "id": "wct6zxAFROGU"
      },
      "outputs": [],
      "source": [
        "# define loss function and optimizer\n",
        "if task == \"multi-label, binary-class\":\n",
        "    criterion = nn.BCEWithLogitsLoss()\n",
        "else:\n",
        "    criterion = nn.CrossEntropyLoss()\n",
        "\n",
        "optimizer = optim.SGD(model.parameters(), lr=lr, momentum=0.9)"
      ]
    },
    {
      "cell_type": "code",
      "execution_count": null,
      "metadata": {
        "id": "WX_ziTIbROGU",
        "outputId": "f6208ebd-8a23-44df-99a7-7b59686cc1be"
      },
      "outputs": [
        {
          "name": "stdout",
          "output_type": "stream",
          "text": [
            "Epoch [1/10]\n"
          ]
        },
        {
          "name": "stderr",
          "output_type": "stream",
          "text": [
            "100%|███████████████████████████████████████| 1230/1230 [07:41<00:00,  2.66it/s]\n"
          ]
        },
        {
          "name": "stdout",
          "output_type": "stream",
          "text": [
            "Epoch [2/10]\n"
          ]
        },
        {
          "name": "stderr",
          "output_type": "stream",
          "text": [
            "100%|███████████████████████████████████████| 1230/1230 [07:29<00:00,  2.73it/s]\n"
          ]
        },
        {
          "name": "stdout",
          "output_type": "stream",
          "text": [
            "Epoch [3/10]\n"
          ]
        },
        {
          "name": "stderr",
          "output_type": "stream",
          "text": [
            "100%|███████████████████████████████████████| 1230/1230 [07:20<00:00,  2.79it/s]\n"
          ]
        },
        {
          "name": "stdout",
          "output_type": "stream",
          "text": [
            "Epoch [4/10]\n"
          ]
        },
        {
          "name": "stderr",
          "output_type": "stream",
          "text": [
            "100%|███████████████████████████████████████| 1230/1230 [07:20<00:00,  2.79it/s]\n"
          ]
        },
        {
          "name": "stdout",
          "output_type": "stream",
          "text": [
            "Epoch [5/10]\n"
          ]
        },
        {
          "name": "stderr",
          "output_type": "stream",
          "text": [
            "100%|███████████████████████████████████████| 1230/1230 [07:20<00:00,  2.79it/s]\n"
          ]
        },
        {
          "name": "stdout",
          "output_type": "stream",
          "text": [
            "Epoch [6/10]\n"
          ]
        },
        {
          "name": "stderr",
          "output_type": "stream",
          "text": [
            "100%|███████████████████████████████████████| 1230/1230 [07:20<00:00,  2.79it/s]\n"
          ]
        },
        {
          "name": "stdout",
          "output_type": "stream",
          "text": [
            "Epoch [7/10]\n"
          ]
        },
        {
          "name": "stderr",
          "output_type": "stream",
          "text": [
            "100%|███████████████████████████████████████| 1230/1230 [07:20<00:00,  2.79it/s]\n"
          ]
        },
        {
          "name": "stdout",
          "output_type": "stream",
          "text": [
            "Epoch [8/10]\n"
          ]
        },
        {
          "name": "stderr",
          "output_type": "stream",
          "text": [
            "100%|███████████████████████████████████████| 1230/1230 [07:20<00:00,  2.79it/s]\n"
          ]
        },
        {
          "name": "stdout",
          "output_type": "stream",
          "text": [
            "Epoch [9/10]\n"
          ]
        },
        {
          "name": "stderr",
          "output_type": "stream",
          "text": [
            "100%|███████████████████████████████████████| 1230/1230 [07:20<00:00,  2.79it/s]\n"
          ]
        },
        {
          "name": "stdout",
          "output_type": "stream",
          "text": [
            "Epoch [10/10]\n"
          ]
        },
        {
          "name": "stderr",
          "output_type": "stream",
          "text": [
            "100%|███████████████████████████████████████| 1230/1230 [07:20<00:00,  2.79it/s]\n"
          ]
        }
      ],
      "source": [
        "# train\n",
        "for epoch in range(NUM_EPOCHS):\n",
        "    train_correct = 0\n",
        "    train_total = 0\n",
        "    test_correct = 0\n",
        "    test_total = 0\n",
        "    print('Epoch [%d/%d]'% (epoch+1, NUM_EPOCHS))\n",
        "    model.train()\n",
        "    for inputs, targets in tqdm(train_loader):\n",
        "        inputs, targets = inputs.to(device), targets.to(device)\n",
        "        # forward + backward + optimize\n",
        "        optimizer.zero_grad()\n",
        "        outputs = model(inputs)\n",
        "\n",
        "        if task == 'multi-label, binary-class':\n",
        "            targets = targets.to(torch.float32)\n",
        "            loss = criterion(outputs, targets)\n",
        "        else:\n",
        "            targets = targets.squeeze().long()\n",
        "            loss = criterion(outputs, targets)\n",
        "\n",
        "        loss.backward()\n",
        "        optimizer.step()"
      ]
    },
    {
      "cell_type": "code",
      "execution_count": null,
      "metadata": {
        "id": "vLPnKeEdd6uG"
      },
      "outputs": [],
      "source": [
        "torch.save(model.state_dict(), 'medvit_synapsemninst3d_base_weights.pth')"
      ]
    },
    {
      "cell_type": "code",
      "execution_count": null,
      "metadata": {
        "id": "1ESnCk0Md6uH"
      },
      "outputs": [],
      "source": [
        "# Save the entire model\n",
        "torch.save(model, 'medvit_synapsemninst3d_base_model.pth')"
      ]
    },
    {
      "cell_type": "markdown",
      "metadata": {
        "id": "NeeQsj3JROGS"
      },
      "source": [
        "# MedVit Test accuracy"
      ]
    },
    {
      "cell_type": "raw",
      "metadata": {
        "id": "eM6rDDaMROGS",
        "outputId": "7b2f8fb6-5563-4e77-9b5a-12d548456221"
      },
      "source": [
        "!git clone https://github.com/Omid-Nejati/MedViT.git"
      ]
    },
    {
      "cell_type": "code",
      "execution_count": null,
      "metadata": {
        "id": "saXiX4TjROGS",
        "outputId": "7d54f4da-0f9d-4992-f87c-1fb35ababd42"
      },
      "outputs": [
        {
          "name": "stdout",
          "output_type": "stream",
          "text": [
            "/teamspace/studios/this_studio/MedViT\n"
          ]
        },
        {
          "name": "stderr",
          "output_type": "stream",
          "text": [
            "/home/zeus/miniconda3/envs/cloudspace/lib/python3.10/site-packages/IPython/core/magics/osm.py:417: UserWarning: using dhist requires you to install the `pickleshare` library.\n",
            "  self.shell.db['dhist'] = compress_dhist(dhist)[-100:]\n"
          ]
        }
      ],
      "source": [
        "%cd ./MedViT"
      ]
    },
    {
      "cell_type": "code",
      "execution_count": null,
      "metadata": {
        "id": "ZEzMm3AfROGS",
        "outputId": "74f00cb1-2a27-4364-db86-a3e0f0111f6d"
      },
      "outputs": [
        {
          "data": {
            "text/plain": [
              "'/teamspace/studios/this_studio/MedViT'"
            ]
          },
          "execution_count": 13,
          "metadata": {},
          "output_type": "execute_result"
        }
      ],
      "source": [
        "%pwd"
      ]
    },
    {
      "cell_type": "code",
      "execution_count": null,
      "metadata": {
        "id": "8VZhJ8x5ROGT",
        "outputId": "61f9affd-4437-4087-9add-cda4ac4e8231",
        "collapsed": true
      },
      "outputs": [
        {
          "name": "stdout",
          "output_type": "stream",
          "text": [
            "Requirement already satisfied: einops in /system/conda/miniconda3/envs/cloudspace/lib/python3.10/site-packages (from -r requirements.txt (line 1)) (0.8.0)\n",
            "Requirement already satisfied: timm in /system/conda/miniconda3/envs/cloudspace/lib/python3.10/site-packages (from -r requirements.txt (line 2)) (1.0.9)\n",
            "Requirement already satisfied: medmnist in /system/conda/miniconda3/envs/cloudspace/lib/python3.10/site-packages (from -r requirements.txt (line 3)) (3.0.1)\n",
            "Requirement already satisfied: numpy in /system/conda/miniconda3/envs/cloudspace/lib/python3.10/site-packages (from -r requirements.txt (line 4)) (1.26.4)\n",
            "Requirement already satisfied: pandas in /system/conda/miniconda3/envs/cloudspace/lib/python3.10/site-packages (from -r requirements.txt (line 5)) (2.1.4)\n",
            "Requirement already satisfied: scikit-learn in /system/conda/miniconda3/envs/cloudspace/lib/python3.10/site-packages (from -r requirements.txt (line 6)) (1.3.2)\n",
            "Requirement already satisfied: scikit-image in /system/conda/miniconda3/envs/cloudspace/lib/python3.10/site-packages (from -r requirements.txt (line 7)) (0.24.0)\n",
            "Requirement already satisfied: fvcore in /system/conda/miniconda3/envs/cloudspace/lib/python3.10/site-packages (from -r requirements.txt (line 8)) (0.1.5.post20221221)\n",
            "Requirement already satisfied: tqdm in /system/conda/miniconda3/envs/cloudspace/lib/python3.10/site-packages (from -r requirements.txt (line 9)) (4.66.5)\n",
            "Requirement already satisfied: Pillow in /system/conda/miniconda3/envs/cloudspace/lib/python3.10/site-packages (from -r requirements.txt (line 10)) (10.4.0)\n",
            "Requirement already satisfied: fire in /system/conda/miniconda3/envs/cloudspace/lib/python3.10/site-packages (from -r requirements.txt (line 11)) (0.6.0)\n",
            "Requirement already satisfied: torchattacks in /system/conda/miniconda3/envs/cloudspace/lib/python3.10/site-packages (from -r requirements.txt (line 12)) (3.5.1)\n",
            "Requirement already satisfied: torch in /system/conda/miniconda3/envs/cloudspace/lib/python3.10/site-packages (from -r requirements.txt (line 13)) (2.2.1+cu121)\n",
            "Requirement already satisfied: torchvision in /system/conda/miniconda3/envs/cloudspace/lib/python3.10/site-packages (from -r requirements.txt (line 14)) (0.17.1+cu121)\n",
            "Requirement already satisfied: pyyaml in /system/conda/miniconda3/envs/cloudspace/lib/python3.10/site-packages (from timm->-r requirements.txt (line 2)) (6.0.2)\n",
            "Requirement already satisfied: huggingface_hub in /system/conda/miniconda3/envs/cloudspace/lib/python3.10/site-packages (from timm->-r requirements.txt (line 2)) (0.25.0)\n",
            "Requirement already satisfied: safetensors in /system/conda/miniconda3/envs/cloudspace/lib/python3.10/site-packages (from timm->-r requirements.txt (line 2)) (0.4.5)\n",
            "Requirement already satisfied: python-dateutil>=2.8.2 in /system/conda/miniconda3/envs/cloudspace/lib/python3.10/site-packages (from pandas->-r requirements.txt (line 5)) (2.9.0.post0)\n",
            "Requirement already satisfied: pytz>=2020.1 in /system/conda/miniconda3/envs/cloudspace/lib/python3.10/site-packages (from pandas->-r requirements.txt (line 5)) (2024.1)\n",
            "Requirement already satisfied: tzdata>=2022.1 in /system/conda/miniconda3/envs/cloudspace/lib/python3.10/site-packages (from pandas->-r requirements.txt (line 5)) (2024.1)\n",
            "Requirement already satisfied: scipy>=1.5.0 in /system/conda/miniconda3/envs/cloudspace/lib/python3.10/site-packages (from scikit-learn->-r requirements.txt (line 6)) (1.11.4)\n",
            "Requirement already satisfied: joblib>=1.1.1 in /system/conda/miniconda3/envs/cloudspace/lib/python3.10/site-packages (from scikit-learn->-r requirements.txt (line 6)) (1.4.2)\n",
            "Requirement already satisfied: threadpoolctl>=2.0.0 in /system/conda/miniconda3/envs/cloudspace/lib/python3.10/site-packages (from scikit-learn->-r requirements.txt (line 6)) (3.5.0)\n",
            "Requirement already satisfied: networkx>=2.8 in /system/conda/miniconda3/envs/cloudspace/lib/python3.10/site-packages (from scikit-image->-r requirements.txt (line 7)) (3.3)\n",
            "Requirement already satisfied: imageio>=2.33 in /system/conda/miniconda3/envs/cloudspace/lib/python3.10/site-packages (from scikit-image->-r requirements.txt (line 7)) (2.35.1)\n",
            "Requirement already satisfied: tifffile>=2022.8.12 in /system/conda/miniconda3/envs/cloudspace/lib/python3.10/site-packages (from scikit-image->-r requirements.txt (line 7)) (2024.8.30)\n",
            "Requirement already satisfied: packaging>=21 in /system/conda/miniconda3/envs/cloudspace/lib/python3.10/site-packages (from scikit-image->-r requirements.txt (line 7)) (24.1)\n",
            "Requirement already satisfied: lazy-loader>=0.4 in /system/conda/miniconda3/envs/cloudspace/lib/python3.10/site-packages (from scikit-image->-r requirements.txt (line 7)) (0.4)\n",
            "Requirement already satisfied: yacs>=0.1.6 in /system/conda/miniconda3/envs/cloudspace/lib/python3.10/site-packages (from fvcore->-r requirements.txt (line 8)) (0.1.8)\n",
            "Requirement already satisfied: termcolor>=1.1 in /system/conda/miniconda3/envs/cloudspace/lib/python3.10/site-packages (from fvcore->-r requirements.txt (line 8)) (2.4.0)\n",
            "Requirement already satisfied: tabulate in /system/conda/miniconda3/envs/cloudspace/lib/python3.10/site-packages (from fvcore->-r requirements.txt (line 8)) (0.9.0)\n",
            "Requirement already satisfied: iopath>=0.1.7 in /system/conda/miniconda3/envs/cloudspace/lib/python3.10/site-packages (from fvcore->-r requirements.txt (line 8)) (0.1.10)\n",
            "Requirement already satisfied: six in /system/conda/miniconda3/envs/cloudspace/lib/python3.10/site-packages (from fire->-r requirements.txt (line 11)) (1.16.0)\n",
            "Requirement already satisfied: requests~=2.25.1 in /system/conda/miniconda3/envs/cloudspace/lib/python3.10/site-packages (from torchattacks->-r requirements.txt (line 12)) (2.25.1)\n",
            "Requirement already satisfied: filelock in /system/conda/miniconda3/envs/cloudspace/lib/python3.10/site-packages (from torch->-r requirements.txt (line 13)) (3.15.4)\n",
            "Requirement already satisfied: typing-extensions>=4.8.0 in /system/conda/miniconda3/envs/cloudspace/lib/python3.10/site-packages (from torch->-r requirements.txt (line 13)) (4.12.2)\n",
            "Requirement already satisfied: sympy in /system/conda/miniconda3/envs/cloudspace/lib/python3.10/site-packages (from torch->-r requirements.txt (line 13)) (1.13.2)\n",
            "Requirement already satisfied: jinja2 in /system/conda/miniconda3/envs/cloudspace/lib/python3.10/site-packages (from torch->-r requirements.txt (line 13)) (3.1.4)\n",
            "Requirement already satisfied: fsspec in /system/conda/miniconda3/envs/cloudspace/lib/python3.10/site-packages (from torch->-r requirements.txt (line 13)) (2024.9.0)\n",
            "Requirement already satisfied: nvidia-cuda-nvrtc-cu12==12.1.105 in /system/conda/miniconda3/envs/cloudspace/lib/python3.10/site-packages (from torch->-r requirements.txt (line 13)) (12.1.105)\n",
            "Requirement already satisfied: nvidia-cuda-runtime-cu12==12.1.105 in /system/conda/miniconda3/envs/cloudspace/lib/python3.10/site-packages (from torch->-r requirements.txt (line 13)) (12.1.105)\n",
            "Requirement already satisfied: nvidia-cuda-cupti-cu12==12.1.105 in /system/conda/miniconda3/envs/cloudspace/lib/python3.10/site-packages (from torch->-r requirements.txt (line 13)) (12.1.105)\n",
            "Requirement already satisfied: nvidia-cudnn-cu12==8.9.2.26 in /system/conda/miniconda3/envs/cloudspace/lib/python3.10/site-packages (from torch->-r requirements.txt (line 13)) (8.9.2.26)\n",
            "Requirement already satisfied: nvidia-cublas-cu12==12.1.3.1 in /system/conda/miniconda3/envs/cloudspace/lib/python3.10/site-packages (from torch->-r requirements.txt (line 13)) (12.1.3.1)\n",
            "Requirement already satisfied: nvidia-cufft-cu12==11.0.2.54 in /system/conda/miniconda3/envs/cloudspace/lib/python3.10/site-packages (from torch->-r requirements.txt (line 13)) (11.0.2.54)\n",
            "Requirement already satisfied: nvidia-curand-cu12==10.3.2.106 in /system/conda/miniconda3/envs/cloudspace/lib/python3.10/site-packages (from torch->-r requirements.txt (line 13)) (10.3.2.106)\n",
            "Requirement already satisfied: nvidia-cusolver-cu12==11.4.5.107 in /system/conda/miniconda3/envs/cloudspace/lib/python3.10/site-packages (from torch->-r requirements.txt (line 13)) (11.4.5.107)\n",
            "Requirement already satisfied: nvidia-cusparse-cu12==12.1.0.106 in /system/conda/miniconda3/envs/cloudspace/lib/python3.10/site-packages (from torch->-r requirements.txt (line 13)) (12.1.0.106)\n",
            "Requirement already satisfied: nvidia-nccl-cu12==2.19.3 in /system/conda/miniconda3/envs/cloudspace/lib/python3.10/site-packages (from torch->-r requirements.txt (line 13)) (2.19.3)\n",
            "Requirement already satisfied: nvidia-nvtx-cu12==12.1.105 in /system/conda/miniconda3/envs/cloudspace/lib/python3.10/site-packages (from torch->-r requirements.txt (line 13)) (12.1.105)\n",
            "Requirement already satisfied: triton==2.2.0 in /system/conda/miniconda3/envs/cloudspace/lib/python3.10/site-packages (from torch->-r requirements.txt (line 13)) (2.2.0)\n",
            "Requirement already satisfied: nvidia-nvjitlink-cu12 in /system/conda/miniconda3/envs/cloudspace/lib/python3.10/site-packages (from nvidia-cusolver-cu12==11.4.5.107->torch->-r requirements.txt (line 13)) (12.6.68)\n",
            "Requirement already satisfied: portalocker in /system/conda/miniconda3/envs/cloudspace/lib/python3.10/site-packages (from iopath>=0.1.7->fvcore->-r requirements.txt (line 8)) (2.10.1)\n",
            "Requirement already satisfied: chardet<5,>=3.0.2 in /system/conda/miniconda3/envs/cloudspace/lib/python3.10/site-packages (from requests~=2.25.1->torchattacks->-r requirements.txt (line 12)) (4.0.0)\n",
            "Requirement already satisfied: idna<3,>=2.5 in /system/conda/miniconda3/envs/cloudspace/lib/python3.10/site-packages (from requests~=2.25.1->torchattacks->-r requirements.txt (line 12)) (2.10)\n",
            "Requirement already satisfied: urllib3<1.27,>=1.21.1 in /system/conda/miniconda3/envs/cloudspace/lib/python3.10/site-packages (from requests~=2.25.1->torchattacks->-r requirements.txt (line 12)) (1.26.20)\n",
            "Requirement already satisfied: certifi>=2017.4.17 in /system/conda/miniconda3/envs/cloudspace/lib/python3.10/site-packages (from requests~=2.25.1->torchattacks->-r requirements.txt (line 12)) (2024.8.30)\n",
            "Requirement already satisfied: MarkupSafe>=2.0 in /system/conda/miniconda3/envs/cloudspace/lib/python3.10/site-packages (from jinja2->torch->-r requirements.txt (line 13)) (2.1.5)\n",
            "Requirement already satisfied: mpmath<1.4,>=1.1.0 in /system/conda/miniconda3/envs/cloudspace/lib/python3.10/site-packages (from sympy->torch->-r requirements.txt (line 13)) (1.3.0)\n",
            "Note: you may need to restart the kernel to use updated packages.\n"
          ]
        }
      ],
      "source": [
        "pip install -r requirements.txt"
      ]
    },
    {
      "cell_type": "code",
      "execution_count": null,
      "metadata": {
        "id": "u4Z5KaWyROGT",
        "outputId": "acebebd4-9243-4382-99dc-df2204b93ed3"
      },
      "outputs": [
        {
          "name": "stdout",
          "output_type": "stream",
          "text": [
            "\u001b[0m\u001b[01;32mColab_MedViT.ipynb\u001b[0m*  \u001b[01;32mLICENSE\u001b[0m*      \u001b[01;34mfracturemnist3d\u001b[0m/   \u001b[01;32mutils.py\u001b[0m*\n",
            "\u001b[01;34mCustomDataset\u001b[0m/       \u001b[01;32mMedViT.py\u001b[0m*    \u001b[01;34mimages\u001b[0m/\n",
            "\u001b[01;32mCustomDataset.md\u001b[0m*    \u001b[01;32mREADME.md\u001b[0m*    \u001b[01;32mrequirements.txt\u001b[0m*\n",
            "\u001b[01;32mInstructions.ipynb\u001b[0m*  \u001b[01;34m__pycache__\u001b[0m/  \u001b[01;34msynapsemnist3d\u001b[0m/\n"
          ]
        }
      ],
      "source": [
        "%ls"
      ]
    },
    {
      "cell_type": "code",
      "execution_count": null,
      "metadata": {
        "id": "eAMxmWdXk9s7"
      },
      "outputs": [],
      "source": [
        "# import torch\n",
        "\n",
        "# Load the saved model\n",
        "#For GPU:\n",
        "model = torch.load('/teamspace/studios/this_studio/SB_synapse_medMedViT/medvit_synapsemninst3d_base_model.pth')\n",
        "#for CPU\n",
        "# model = torch.load('/teamspace/studios/this_studio/SB_synapse_medMedViT/medvit_synapsemninst3d_base_model.pth', map_location=torch.device('cpu'))\n"
      ]
    },
    {
      "cell_type": "code",
      "execution_count": null,
      "metadata": {
        "outputId": "0934017a-b60f-454f-a820-00e61751b52a",
        "id": "ihdPkC2yPgD2"
      },
      "outputs": [
        {
          "name": "stdout",
          "output_type": "stream",
          "text": [
            "Test Accuracy: 80.08%\n",
            "Precision: 0.76\n",
            "Recall: 0.69\n",
            "F1 Score: 0.71\n"
          ]
        }
      ],
      "source": [
        "\n",
        "# Validation loop\n",
        "model.eval()  # Set model to evaluation mode\n",
        "if task == \"multi-label, binary-class\":\n",
        "    all_labels = []\n",
        "    all_preds = []\n",
        "    total_correct = 0\n",
        "    with torch.no_grad():\n",
        "        for data in test_loader:\n",
        "            inputs, labels = data\n",
        "            inputs, labels = inputs.to(device), labels.to(device)\n",
        "\n",
        "            # Convert 1-channel to 3-channel\n",
        "            # inputs = inputs.repeat(1, 3, 1, 1)\n",
        "\n",
        "            outputs = model(inputs)\n",
        "            outputs = torch.sigmoid(outputs)\n",
        "            print(\"outputs\", outputs) # Apply sigmoid for multi-label classification\n",
        "            predicted = (outputs > 0.5).int()  # Thresholding for binary classification\n",
        "\n",
        "            total_correct += (predicted == labels).sum().item()\n",
        "            # Collect all labels and predictions for metric calculation\n",
        "            all_labels.extend(labels.cpu().numpy().flatten())\n",
        "            all_preds.extend(predicted.cpu().numpy().flatten())\n",
        "\n",
        "    accuracy = total_correct / (len(test_loader.dataset) * n_classes) * 100\n",
        "    print(f'Validation Accuracy: {accuracy:.2f}%')\n",
        "    # Calculate Precision, Recall, and F1 Score using sklearn\n",
        "    precision = precision_score(all_labels, all_preds, average='macro')\n",
        "    recall = recall_score(all_labels, all_preds, average='macro')\n",
        "    f1 = f1_score(all_labels, all_preds, average='macro')\n",
        "\n",
        "    print(f'Precision: {precision:.2f}')\n",
        "    print(f'Recall: {recall:.2f}')\n",
        "    print(f'F1 Score: {f1:.2f}')\n",
        "\n",
        "else:  # Multi-class classification\n",
        "    total_correct = 0\n",
        "    all_labels = []\n",
        "    all_preds = []\n",
        "    with torch.no_grad():\n",
        "        for data in test_loader:\n",
        "            inputs, labels = data\n",
        "            inputs, labels = inputs.to(device), labels.to(device)\n",
        "\n",
        "             # Convert 1-channel to 3-channel\n",
        "            # inputs = inputs.repeat(1, 3, 1, 1)\n",
        "            outputs = model(inputs)\n",
        "            _, predicted = torch.max(outputs, 1)  # Get the predicted class\n",
        "\n",
        "            total_correct += (predicted == labels).sum().item()\n",
        "            # Collect all labels and predictions for metric calculation\n",
        "            all_labels.extend(labels.cpu().numpy())\n",
        "            all_preds.extend(predicted.cpu().numpy())\n",
        "\n",
        "    accuracy = total_correct / len(test_loader.dataset) * 100\n",
        "    print(f'Test Accuracy: {accuracy:.2f}%')\n",
        "    # Calculate Precision, Recall, and F1 Score using sklearn\n",
        "    precision = precision_score(all_labels, all_preds, average='macro')\n",
        "    recall = recall_score(all_labels, all_preds, average='macro')\n",
        "    f1 = f1_score(all_labels, all_preds, average='macro')\n",
        "\n",
        "    print(f'Precision: {precision:.2f}')\n",
        "    print(f'Recall: {recall:.2f}')\n",
        "    print(f'F1 Score: {f1:.2f}')"
      ]
    },
    {
      "cell_type": "markdown",
      "metadata": {
        "id": "vGB4tHRwZNKq"
      },
      "source": [
        "# Voting by Training XGB for Synapse3D"
      ]
    },
    {
      "cell_type": "code",
      "execution_count": null,
      "metadata": {
        "id": "ohI5wXnfZNKr",
        "outputId": "96221708-7276-4f8a-b8b8-6b779a8c4ba8"
      },
      "outputs": [
        {
          "name": "stdout",
          "output_type": "stream",
          "text": [
            "Saved features to ./XGBfeatures/train_features.npy and labels to ./XGBfeatures/train_labels.npy\n",
            "Saved features to ./XGBfeatures/test_features.npy and labels to ./XGBfeatures/test_labels.npy\n"
          ]
        }
      ],
      "source": [
        "import os\n",
        "import torch\n",
        "import numpy as np\n",
        "import joblib\n",
        "from sklearn.metrics import accuracy_score, precision_score, recall_score, f1_score, roc_auc_score\n",
        "import xgboost as xgb\n",
        "\n",
        "# Paths to save the features and labels\n",
        "SAVE_DIR = './XGBfeatures'\n",
        "os.makedirs(SAVE_DIR, exist_ok=True)  # Create directory if it doesn't exist\n",
        "\n",
        "TRAIN_FEATURES_PATH = os.path.join(SAVE_DIR, 'train_features.npy')\n",
        "TRAIN_LABELS_PATH = os.path.join(SAVE_DIR, 'train_labels.npy')\n",
        "TEST_FEATURES_PATH = os.path.join(SAVE_DIR, 'test_features.npy')\n",
        "TEST_LABELS_PATH = os.path.join(SAVE_DIR, 'test_labels.npy')\n",
        "\n",
        "# Function to extract and save features and labels\n",
        "def extract_and_save_features_and_labels(model, loader, device, features_path, labels_path):\n",
        "    model.eval()  # Set model to evaluation mode\n",
        "    all_features = []\n",
        "    all_labels = []\n",
        "\n",
        "    for data in loader:\n",
        "        if len(data) == 2:\n",
        "            batch_images, batch_labels = data  # Expected structure\n",
        "        elif len(data) > 2:\n",
        "            batch_images, batch_labels, _ = data  # Adjust if additional info is present\n",
        "\n",
        "        batch_images = batch_images.to(device)  # Move batch to GPU\n",
        "\n",
        "        with torch.no_grad():\n",
        "            outputs = model(batch_images)  # Extract features\n",
        "            all_features.append(outputs.cpu().numpy())  # Move to CPU and store\n",
        "\n",
        "        # Use batch_labels[0] since all slices have the same 3D label\n",
        "        all_labels.append(batch_labels[0])\n",
        "\n",
        "    # Stack features and labels\n",
        "    features = np.vstack(all_features)\n",
        "    labels = np.array(all_labels)\n",
        "\n",
        "    # Save features and labels as npy files\n",
        "    np.save(features_path, features)\n",
        "    np.save(labels_path, labels)\n",
        "\n",
        "    print(f\"Saved features to {features_path} and labels to {labels_path}\")\n",
        "\n",
        "# Initialize device\n",
        "device = torch.device(\"cuda\" if torch.cuda.is_available() else \"cpu\")\n",
        "model = model.to(device)\n",
        "\n",
        "# Extract and save train features and labels\n",
        "extract_and_save_features_and_labels(model, train_loader, device, TRAIN_FEATURES_PATH, TRAIN_LABELS_PATH)\n",
        "\n",
        "# Extract and save test features and labels\n",
        "extract_and_save_features_and_labels(model, test_loader, device, TEST_FEATURES_PATH, TEST_LABELS_PATH)\n",
        "\n"
      ]
    },
    {
      "cell_type": "code",
      "execution_count": null,
      "metadata": {
        "id": "46T0BYE4ZNKt",
        "outputId": "fb771fc5-b8e2-4778-bb75-b3f8e712b081"
      },
      "outputs": [
        {
          "name": "stdout",
          "output_type": "stream",
          "text": [
            "(78720, 2)\n",
            "(1230,)\n",
            "(22528, 2)\n",
            "(352,)\n"
          ]
        }
      ],
      "source": [
        "# Paths to save the features and labels\n",
        "SAVE_DIR = './XGBfeatures'\n",
        "TRAIN_FEATURES_PATH = os.path.join(SAVE_DIR, 'train_features.npy')\n",
        "TRAIN_LABELS_PATH = os.path.join(SAVE_DIR, 'train_labels.npy')\n",
        "# Load saved features and labels for training and testing\n",
        "train_features = np.load(TRAIN_FEATURES_PATH)\n",
        "train_labels = np.load(TRAIN_LABELS_PATH)\n",
        "test_features = np.load(TEST_FEATURES_PATH)\n",
        "test_labels = np.load(TEST_LABELS_PATH)\n",
        "print(train_features.shape)\n",
        "print(train_labels.shape)"
      ]
    },
    {
      "cell_type": "code",
      "execution_count": null,
      "metadata": {
        "id": "Q1gZ4i0vZNKt",
        "outputId": "d56dcd17-0baa-4af1-be22-2f00f13e48f0"
      },
      "outputs": [
        {
          "name": "stdout",
          "output_type": "stream",
          "text": [
            "Reshaped Features Shape: (1230, 128)\n",
            "Train Labels Shape: (1230,)\n"
          ]
        }
      ],
      "source": [
        "# Assuming train_features shape is (78720, 2) with 64 slices per 3D image\n",
        "NUM_SLICES = 64  # Number of slices per 3D image\n",
        "NUM_CLASSES = 2  # Number of class scores per slice\n",
        "\n",
        "# Reshape to get (1230, 64 * 2) features for each 3D image\n",
        "num_images = train_features.shape[0] // NUM_SLICES  # Should be 1230 images\n",
        "reshaped_features = train_features.reshape(num_images, NUM_SLICES * NUM_CLASSES)\n",
        "\n",
        "print(f\"Reshaped Features Shape: {reshaped_features.shape}\")  # Should be (1230, 128)\n",
        "print(f\"Train Labels Shape: {train_labels.shape}\")  # Should be (1230,)\n"
      ]
    },
    {
      "cell_type": "code",
      "execution_count": null,
      "metadata": {
        "id": "3yAGMc3pZNKu",
        "outputId": "61f6f9f3-01c8-418e-a386-a4293f19fa5d"
      },
      "outputs": [
        {
          "name": "stdout",
          "output_type": "stream",
          "text": [
            "XGB model saved as 'xgb_model.pkl'\n"
          ]
        }
      ],
      "source": [
        "# Train XGBoost model with reshaped features\n",
        "xgb_model = xgb.XGBClassifier(\n",
        "    objective='binary:logistic',\n",
        "    use_label_encoder=False,\n",
        "    eval_metric='logloss'\n",
        ")\n",
        "xgb_model.fit(reshaped_features, train_labels)\n",
        "\n",
        "# Save the trained XGB model\n",
        "joblib.dump(xgb_model, 'xgb_model.pkl')\n",
        "print(\"XGB model saved as 'xgb_model.pkl'\")"
      ]
    },
    {
      "cell_type": "code",
      "execution_count": null,
      "metadata": {
        "id": "UEXmv-f2ZNKu",
        "outputId": "d2a6a11e-f1e2-45aa-9207-fce8a0cd7ace"
      },
      "outputs": [
        {
          "name": "stdout",
          "output_type": "stream",
          "text": [
            "XGB Model - Accuracy: 77.27%\n",
            "Precision: 0.82\n",
            "Recall: 0.89\n",
            "F1-score: 0.85\n",
            "ROC-AUC Score: 0.68\n"
          ]
        }
      ],
      "source": [
        "# Load the saved XGB model\n",
        "xgb_model = joblib.load('xgb_model.pkl')\n",
        "\n",
        "# Paths to save the features and labels\n",
        "SAVE_DIR = './XGBfeatures'\n",
        "TEST_FEATURES_PATH = os.path.join(SAVE_DIR, 'test_features.npy')\n",
        "TEST_LABELS_PATH = os.path.join(SAVE_DIR, 'test_labels.npy')\n",
        "\n",
        "# Load test features and labels\n",
        "test_features = np.load(TEST_FEATURES_PATH)\n",
        "test_labels = np.load(TEST_LABELS_PATH)\n",
        "\n",
        "# Reshape the test features similarly\n",
        "test_features_reshaped = test_features.reshape(-1, NUM_SLICES * NUM_CLASSES)\n",
        "\n",
        "# Predict and calculate probabilities\n",
        "test_predictions = xgb_model.predict(test_features_reshaped)\n",
        "test_probabilities = xgb_model.predict_proba(test_features_reshaped)[:, 1]\n",
        "\n",
        "# Calculate evaluation metrics\n",
        "accuracy = accuracy_score(test_labels, test_predictions)\n",
        "precision = precision_score(test_labels, test_predictions)\n",
        "recall = recall_score(test_labels, test_predictions)\n",
        "f1 = f1_score(test_labels, test_predictions)\n",
        "roc_auc = roc_auc_score(test_labels, test_probabilities)\n",
        "\n",
        "# Print evaluation results\n",
        "print(f\"XGB Model - Accuracy: {accuracy * 100:.2f}%\")\n",
        "print(f\"Precision: {precision:.2f}\")\n",
        "print(f\"Recall: {recall:.2f}\")\n",
        "print(f\"F1-score: {f1:.2f}\")\n",
        "print(f\"ROC-AUC Score: {roc_auc:.2f}\")\n"
      ]
    },
    {
      "cell_type": "markdown",
      "metadata": {
        "id": "N7O_mawKk9s7"
      },
      "source": [
        "# Voting using Shannon Entropy (for Synapse3D)"
      ]
    },
    {
      "cell_type": "markdown",
      "metadata": {
        "id": "YADwN-z4k9s7"
      },
      "source": [
        "To ensure the 64 2D slices from the same 3D image are loaded in an ordered fashion, we'll need to modify how you load the test dataset. Here's a high-level strategy:\n",
        "\n",
        "Load images in a structured way: Ensure that the file reading function reads 64 consecutive 2D slices corresponding to a single 3D image.\n",
        "Group these 64 slices: As each batch consists of slices from the same 3D image, we'll process them together for accuracy calculation after combining their probabilities."
      ]
    },
    {
      "cell_type": "markdown",
      "metadata": {
        "id": "aeKpQh08k9s8"
      },
      "source": [
        "## Shannon entropy voting: GPU optimized"
      ]
    },
    {
      "cell_type": "code",
      "execution_count": null,
      "metadata": {
        "id": "4UA2Xo4Jk9s8"
      },
      "outputs": [],
      "source": [
        "import torch\n",
        "import torch.nn.functional as F\n",
        "from sklearn.metrics import precision_score, recall_score, f1_score\n",
        "from sklearn.metrics import roc_auc_score\n",
        "import numpy as np\n",
        "\n",
        "# Function to calculate entropy for each slice's probability (on GPU)\n",
        "def calculate_entropy_gpu(probabilities):\n",
        "    # Entropy formula: H(X) = -p*log(p) - (1-p)*log(1-p)\n",
        "    entropy_values = -probabilities * torch.log(probabilities + 1e-10) - (1 - probabilities) * torch.log(1 - probabilities + 1e-10)\n",
        "    return (entropy_values)\n",
        "\n",
        "# Function to normalize entropies (on GPU)\n",
        "def normalize_entropies_gpu(entropies):\n",
        "    total_entropy = torch.sum(entropies)\n",
        "    if total_entropy == 0:\n",
        "        return torch.ones_like(entropies) / len(entropies)  # Handle zero entropy case\n",
        "    return entropies / total_entropy\n",
        "\n",
        "# Function to combine probabilities using the normalized entropy as weights (on GPU)\n",
        "def combine_probabilities_gpu(probabilities, weights):\n",
        "    return torch.sum(probabilities * weights)\n",
        "\n",
        "def combine_scores_gpu(score, weights):\n",
        "    # Perform matrix multiplication\n",
        "    result = torch.matmul(weights,score)\n",
        "    return result\n",
        "\n",
        "# Function to calculate 3D image-wise metrics\n",
        "def calculate_3d_image_metrics_gpu(model, test_loader, device):\n",
        "    model.eval()  # Set model to evaluation mode\n",
        "    true_labels = []\n",
        "    predicted_labels = []\n",
        "    combined_probabilities = []\n",
        "\n",
        "    for batch_images, batch_labels in test_loader:\n",
        "        batch_images = batch_images.to(device)  # Move batch to GPU\n",
        "        batch_labels = torch.tensor(batch_labels).to(device)  # Move labels to GPU\n",
        "\n",
        "        # Step 1: Get prediction for each individual slice in the batch\n",
        "        with torch.no_grad():\n",
        "            outputs = model(batch_images)  # Model outputs for the 64 slices\n",
        "            softmax_outputs = F.softmax(outputs, dim=1)  # Apply softmax to get probabilities\n",
        "            slice_probs = softmax_outputs[:, 1]  # Get probability for class 1 (binary classification)\n",
        "\n",
        "        # Step 2: Calculate entropies for the 64 slices (on GPU)\n",
        "        entropies = calculate_entropy_gpu(slice_probs)\n",
        "\n",
        "        # Step 3: Normalize the entropies (on GPU)\n",
        "        weights = normalize_entropies_gpu(entropies)\n",
        "\n",
        "        # Step 4: Combine the probabilities using the entropy-based weights (on GPU)\n",
        "        # combined_probability = combine_probabilities_gpu(slice_probs, weights)\n",
        "        combined_scores = combine_scores_gpu(outputs, weights)\n",
        "        softmax_3Doutputs = F.softmax(combined_scores, dim=-1)\n",
        "        combined_probability=softmax_3Doutputs[1]\n",
        "\n",
        "        # Step 5: Get the true label (all slices in the batch have the same label) and make a prediction\n",
        "        true_label = batch_labels[0]  # All slices have the same label\n",
        "        predicted_label = 1 if combined_probability.item() >= 0.5 else 0  # Binary classification threshold\n",
        "\n",
        "        # Store true and predicted labels for final metrics calculation (move to CPU for sklearn)\n",
        "        true_labels.append(true_label.item())\n",
        "        predicted_labels.append(predicted_label)\n",
        "        combined_probabilities.append(combined_probability.item())\n",
        "\n",
        "    # Calculate accuracy, precision, recall, and F1-score (on CPU for sklearn compatibility)\n",
        "    accuracy = sum(np.array(true_labels) == np.array(predicted_labels)) / len(true_labels)\n",
        "    precision = precision_score(true_labels, predicted_labels)\n",
        "    recall = recall_score(true_labels, predicted_labels)\n",
        "    f1 = f1_score(true_labels, predicted_labels)\n",
        "    auc = roc_auc_score(true_labels,combined_probabilities)\n",
        "\n",
        "    return accuracy, precision, recall, f1, auc\n",
        "\n",
        "# Example usage\n",
        "device = torch.device(\"cuda\" if torch.cuda.is_available() else \"cpu\")\n",
        "model = model.to(device)  # Move model to the appropriate device\n",
        "\n",
        "# Assuming test_loader is already defined\n",
        "accuracy, precision, recall, f1, auc = calculate_3d_image_metrics_gpu(model, test_loader, device)\n",
        "\n",
        "print(f\"3D Image-wise Accuracy: {accuracy * 100:.2f}%\")\n",
        "print(f\"Precision: {precision*100:.2f}%\")\n",
        "print(f\"Recall: {recall*100:.2f}%\")\n",
        "print(f\"F1-score: {f1*100:.2f}%\")\n",
        "print(f\"AUC: {auc*100:.2f}%\")\n"
      ]
    },
    {
      "cell_type": "code",
      "execution_count": null,
      "metadata": {
        "id": "zn4VIchak9s8",
        "outputId": "45d9cedc-e1d7-46bc-de06-ed8a730ce55f"
      },
      "outputs": [
        {
          "name": "stdout",
          "output_type": "stream",
          "text": [
            "3D Image-wise Accuracy: 82.39%\n",
            "Precision: 82.61%\n",
            "Recall: 96.11%\n",
            "F1-score: 88.85%\n",
            "AUC: 83.82%\n"
          ]
        }
      ],
      "source": [
        "print(f\"3D Image-wise Accuracy: {accuracy * 100:.2f}%\")\n",
        "print(f\"Precision: {precision*100:.2f}%\")\n",
        "print(f\"Recall: {recall*100:.2f}%\")\n",
        "print(f\"F1-score: {f1*100:.2f}%\")\n",
        "print(f\"AUC: {auc*100:.2f}%\")"
      ]
    }
  ],
  "metadata": {
    "colab": {
      "provenance": [],
      "gpuType": "T4",
      "include_colab_link": true
    },
    "kernelspec": {
      "display_name": "Python 3",
      "name": "python3"
    },
    "language_info": {
      "codemirror_mode": {
        "name": "ipython",
        "version": 3
      },
      "file_extension": ".py",
      "mimetype": "text/x-python",
      "name": "python",
      "nbconvert_exporter": "python",
      "pygments_lexer": "ipython3",
      "version": "3.10.12"
    },
    "accelerator": "GPU"
  },
  "nbformat": 4,
  "nbformat_minor": 0
}