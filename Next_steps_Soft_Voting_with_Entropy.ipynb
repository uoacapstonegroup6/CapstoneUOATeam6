{
  "nbformat": 4,
  "nbformat_minor": 0,
  "metadata": {
    "colab": {
      "provenance": [],
      "authorship_tag": "ABX9TyO4J7xfeZ0UGUTplxgNpmMR",
      "include_colab_link": true
    },
    "kernelspec": {
      "name": "python3",
      "display_name": "Python 3"
    },
    "language_info": {
      "name": "python"
    }
  },
  "cells": [
    {
      "cell_type": "markdown",
      "metadata": {
        "id": "view-in-github",
        "colab_type": "text"
      },
      "source": [
        "<a href=\"https://colab.research.google.com/github/uoacapstonegroup6/CapstoneUOATeam6/blob/main/Next_steps_Soft_Voting_with_Entropy.ipynb\" target=\"_parent\"><img src=\"https://colab.research.google.com/assets/colab-badge.svg\" alt=\"Open In Colab\"/></a>"
      ]
    },
    {
      "cell_type": "code",
      "execution_count": null,
      "metadata": {
        "id": "ir72cdUz6iYz"
      },
      "outputs": [],
      "source": [
        "import numpy as np\n",
        "from scipy.stats import entropy\n",
        "\n",
        "def compute_entropy(image_slice):\n",
        "    \"\"\"Calculate the entropy of a 2D image slice based on pixel intensity.\"\"\"\n",
        "    # Flatten the image slice to a 1D array\n",
        "    pixel_values = image_slice.flatten()\n",
        "\n",
        "    # Compute the histogram of pixel values\n",
        "    hist, _ = np.histogram(pixel_values, bins=256, range=(0, 255), density=True)\n",
        "\n",
        "    # Compute entropy using scipy\n",
        "    slice_entropy = entropy(hist, base=2)  # Use base-2 entropy\n",
        "    return slice_entropy\n",
        "\n",
        "def normalize_entropies(entropies):\n",
        "    \"\"\"Normalize the entropy values so that they sum up to 1.\"\"\"\n",
        "    total_entropy = np.sum(entropies)\n",
        "    if total_entropy == 0:\n",
        "        return np.ones_like(entropies) / len(entropies)  # If all entropies are 0, return equal weights\n",
        "    return entropies / total_entropy\n",
        "\n",
        "def weighted_voting(predictions, entropies):\n",
        "    \"\"\"\n",
        "    Perform soft voting with weighted probabilities based on entropy.\n",
        "\n",
        "    Args:\n",
        "    predictions: List of arrays, where each array is the class probabilities for a slice.\n",
        "                 Shape of each array is (num_classes,)\n",
        "    entropies: List of entropy values for each corresponding slice.\n",
        "\n",
        "    Returns:\n",
        "    final_prediction: The predicted class for the 3D image.\n",
        "    \"\"\"\n",
        "    num_slices = len(predictions)\n",
        "    num_classes = len(predictions[0])\n",
        "\n",
        "    # Normalize entropies\n",
        "    normalized_entropies = normalize_entropies(entropies)\n",
        "\n",
        "    # Initialize array for weighted probabilities\n",
        "    weighted_probs = np.zeros(num_classes)\n",
        "\n",
        "    # Sum weighted probabilities from each slice\n",
        "    for i in range(num_slices):\n",
        "        weighted_probs += normalized_entropies[i] * predictions[i]\n",
        "\n",
        "    # Final prediction is the class with the highest weighted probability\n",
        "    final_prediction = np.argmax(weighted_probs)\n",
        "\n",
        "    return final_prediction\n",
        "\n",
        "# Example Usage\n",
        "if __name__ == \"__main__\":\n",
        "    num_slices = 64\n",
        "    num_classes = 2  # 3 for fracture mnist\n",
        "\n",
        "    # Simulate some image slices (replace with actual 64x64 image data)\n",
        "    image_slices = [np.random.randint(0, 256, (64, 64)) for _ in range(num_slices)]\n",
        "\n",
        "    # Simulate class probability predictions for each slice (replace with actual model outputs)\n",
        "    predictions = [np.random.rand(num_classes) for _ in range(num_slices)]\n",
        "    predictions = [p / np.sum(p) for p in predictions]  # Ensure probabilities sum to 1\n",
        "\n",
        "    # Compute entropy for each slice\n",
        "    entropies = [compute_entropy(slice) for slice in image_slices]\n",
        "\n",
        "    # Perform weighted voting\n",
        "    final_class = weighted_voting(predictions, entropies)\n",
        "\n",
        "    print(f\"Final predicted class for the 3D image: {final_class}\")\n"
      ]
    }
  ]
}